{
 "cells": [
  {
   "cell_type": "code",
   "execution_count": 4,
   "id": "c11ceb71",
   "metadata": {},
   "outputs": [
    {
     "name": "stdout",
     "output_type": "stream",
     "text": [
      "0\n",
      "1\n",
      "2\n",
      "4\n",
      "5\n"
     ]
    }
   ],
   "source": [
    "#a Python program that prints all the numbers from 0 to 6 except 3 and 6\n",
    "for i in range(0,7):\n",
    "    \n",
    "    if i%3 == 0 and i!=0:\n",
    "        continue\n",
    "    else:\n",
    "        print(i)"
   ]
  },
  {
   "cell_type": "code",
   "execution_count": 5,
   "id": "5246c3e7",
   "metadata": {},
   "outputs": [
    {
     "name": "stdout",
     "output_type": "stream",
     "text": [
      "Enter a number: 15\n",
      "120\n"
     ]
    }
   ],
   "source": [
    "#program to accept a number from a user and calculate the sum of all numbers from 1 to a given number\n",
    "x=int(input(\"Enter a number: \"))\n",
    "y=0\n",
    "for x in range(1,x+1):\n",
    "    y+=x\n",
    "print(y)"
   ]
  },
  {
   "cell_type": "code",
   "execution_count": 12,
   "id": "fa757291",
   "metadata": {},
   "outputs": [
    {
     "name": "stdout",
     "output_type": "stream",
     "text": [
      "Enter a number: 4\n",
      "Multiplication table of : 4\n",
      "4 X 1 = 4\n",
      "4 X 2 = 8\n",
      "4 X 3 = 12\n",
      "4 X 4 = 16\n",
      "4 X 5 = 20\n",
      "4 X 6 = 24\n",
      "4 X 7 = 28\n",
      "4 X 8 = 32\n",
      "4 X 9 = 36\n",
      "4 X 10 = 40\n"
     ]
    }
   ],
   "source": [
    "#program to print multiplication table of a given number(input)\n",
    "num = int(input(\"Enter a number: \"))\n",
    "print(\"Multiplication table of :\", num)\n",
    "for i in range(1, 11):\n",
    "    print(\"{} X {} = {}\".format(num, i, num*i))"
   ]
  },
  {
   "cell_type": "code",
   "execution_count": 16,
   "id": "d5aeb8fe",
   "metadata": {},
   "outputs": [
    {
     "name": "stdout",
     "output_type": "stream",
     "text": [
      "enter a number :1236547890\n",
      "Total no of digits is :  10\n"
     ]
    }
   ],
   "source": [
    "#program to count the total number of digits in a number using a while loop\n",
    "num = input(\"enter a number :\")\n",
    "y = 0\n",
    "while y<len(num):\n",
    "    y+=1\n",
    "print(\"Total no of digits is : \",y)"
   ]
  },
  {
   "cell_type": "code",
   "execution_count": null,
   "id": "facbf7a9",
   "metadata": {},
   "outputs": [],
   "source": [
    "#Python program to guess a number between 1 to \n",
    "#Example: User is prompted to enter a guess. If the user guesses wrong then the prompt appears again until the guess is correct, on successful guess, user will get a \"Well guessed!\" message, and the program will exit\n"
   ]
  },
  {
   "cell_type": "code",
   "execution_count": 2,
   "id": "a869cc17",
   "metadata": {},
   "outputs": [
    {
     "name": "stdout",
     "output_type": "stream",
     "text": [
      "1\n",
      "2\n",
      "Fizz\n",
      "4\n",
      "Buzz\n",
      "Fizz\n",
      "7\n",
      "8\n",
      "Fizz\n",
      "Buzz\n",
      "11\n",
      "Fizz\n",
      "13\n",
      "14\n",
      "Fizz\n",
      "16\n",
      "17\n",
      "Fizz\n",
      "19\n",
      "Buzz\n",
      "Fizz\n",
      "22\n",
      "23\n",
      "Fizz\n",
      "Buzz\n",
      "26\n",
      "Fizz\n",
      "28\n",
      "29\n",
      "Fizz\n",
      "31\n",
      "32\n",
      "Fizz\n",
      "34\n",
      "Buzz\n",
      "Fizz\n",
      "37\n",
      "38\n",
      "Fizz\n",
      "Buzz\n",
      "41\n",
      "Fizz\n",
      "43\n",
      "44\n",
      "Fizz\n",
      "46\n",
      "47\n",
      "Fizz\n",
      "49\n",
      "Buzz\n",
      "Fizz\n",
      "52\n",
      "53\n",
      "Fizz\n",
      "Buzz\n",
      "56\n",
      "Fizz\n",
      "58\n",
      "59\n",
      "Fizz\n"
     ]
    }
   ],
   "source": [
    "#Python program which iterates the integers from 1 to 60. For multiples of three print \"Fizz\" instead of the number and for the multiples of five print \"Buzz\". For numbers which are multiples of both three and five print \"FizzBuzz\".\n",
    "for i in range(1,61):\n",
    "    if i%3==0:\n",
    "        print(\"Fizz\")\n",
    "    elif i%5==0:\n",
    "        print(\"Buzz\")\n",
    "    elif i%3==0 and i%5==0:\n",
    "        print(\"FizzBuzz\")\n",
    "    else:\n",
    "        print(i)"
   ]
  },
  {
   "cell_type": "code",
   "execution_count": 8,
   "id": "0f6c3662",
   "metadata": {
    "scrolled": true
   },
   "outputs": [
    {
     "name": "stdout",
     "output_type": "stream",
     "text": [
      "enter a string : 1234asdfg\n",
      "letters :  5\n",
      "digits : 4\n"
     ]
    }
   ],
   "source": [
    "#Python program that accepts a string and calculate the number of digits and letters\n",
    "x = input(\"enter a string : \")\n",
    "a = 0\n",
    "b = 0\n",
    "for i in range(0,len(x)):\n",
    "    if x[i].isalpha():\n",
    "        a+=1\n",
    "    elif x[i].isdigit():\n",
    "        b+=1\n",
    "    else:\n",
    "        pass\n",
    "print(\"letters : \", a)\n",
    "print(\"digits :\",b)    \n"
   ]
  },
  {
   "cell_type": "code",
   "execution_count": 9,
   "id": "6bfbc650",
   "metadata": {},
   "outputs": [],
   "source": [
    "#a Python program to check the validity of password input by users.\n"
   ]
  },
  {
   "cell_type": "code",
   "execution_count": 21,
   "id": "6cf02a9d",
   "metadata": {},
   "outputs": [
    {
     "name": "stdout",
     "output_type": "stream",
     "text": [
      "enter a string : potato\n",
      "Reverse string is: otatop\n"
     ]
    }
   ],
   "source": [
    "# a program in Python to reverse a word by using while loop\n",
    "x = input(\"enter a string : \")\n",
    "y = len(x)-1\n",
    "z = \"\"\n",
    "while len(z)<len(x):\n",
    "    z+=x[y]\n",
    "    y-=1\n",
    "print(\"Reverse string is:\", z)"
   ]
  },
  {
   "cell_type": "code",
   "execution_count": 16,
   "id": "b6afed33",
   "metadata": {},
   "outputs": [
    {
     "name": "stdout",
     "output_type": "stream",
     "text": [
      "enter a number : 1\n",
      "enter a number : 2\n",
      "enter a number : 3\n",
      "enter a number : 4\n",
      "enter a number : 5\n",
      "enter a number : 6\n",
      "enter a number : 7\n",
      "enter a number : 8\n",
      "enter a number : 9\n",
      "enter a number : 10\n",
      "average is : 10/10=5.5\n"
     ]
    }
   ],
   "source": [
    "#program which takes 10 integers as input using loop and print their average value on the screen\n",
    "a = 0\n",
    "for i in range(1,11):\n",
    "    x = int(input(\"enter a number : \"))\n",
    "    a+=x\n",
    "print(\"average is : {}/{}={}\".format(i,x, a/10))"
   ]
  },
  {
   "cell_type": "code",
   "execution_count": 1,
   "id": "bd2e5776",
   "metadata": {},
   "outputs": [
    {
     "name": "stdout",
     "output_type": "stream",
     "text": [
      "Enter a number: 5\n",
      "Press q to quit a\n",
      "Enter a number: 2\n",
      "Press q to quit c\n",
      "Enter a number: 3\n",
      "Press q to quit d\n",
      "Enter a number: 4\n",
      "Press q to quit q\n",
      "Sum is  14\n",
      "Product is  120\n"
     ]
    }
   ],
   "source": [
    "# program which takes integer inputs from user until he/she presses “q” (Ask to press q to quit after every integer input). Print average and product of all numbers.\n",
    "s=0\n",
    "x=\" \"\n",
    "p=1\n",
    "while x.lower()!='q':\n",
    "    y=int(input(\"Enter a number: \")) \n",
    "    s+=y\n",
    "    p*=y\n",
    "    x=input(\"Press q to quit \")\n",
    "print(\"Sum is \",s)\n",
    "print(\"Product is \",p)"
   ]
  },
  {
   "cell_type": "code",
   "execution_count": 57,
   "id": "e6aad019",
   "metadata": {},
   "outputs": [
    {
     "name": "stdout",
     "output_type": "stream",
     "text": [
      "Enter a string: ABCDEF12345@#%Hjoi\n",
      "ABCDEFHjoi\n"
     ]
    }
   ],
   "source": [
    "#Python program which will remove all digits or any other characters from the string except alphabets\n",
    "x=input(\"Enter a string: \")\n",
    "y=\"\"\n",
    "for i in range(0,len(x)):\n",
    "    if x[i].isalpha():\n",
    "        y+=x[i]\n",
    "    else:\n",
    "        continue\n",
    "print(y)"
   ]
  },
  {
   "cell_type": "code",
   "execution_count": 56,
   "id": "3dff2542",
   "metadata": {},
   "outputs": [
    {
     "name": "stdout",
     "output_type": "stream",
     "text": [
      "sum of even numbers is :  30\n"
     ]
    }
   ],
   "source": [
    "#python program to find the sum of all even numbers from 0 to 10\n",
    "x = 0\n",
    "for i in range(1,11):\n",
    "    if i%2 == 0:\n",
    "        x+=i\n",
    "    else:\n",
    "        continue\n",
    "print(\"sum of even numbers is : \", x)\n",
    "        "
   ]
  },
  {
   "cell_type": "code",
   "execution_count": 52,
   "id": "ff1b2834",
   "metadata": {},
   "outputs": [
    {
     "name": "stdout",
     "output_type": "stream",
     "text": [
      "enter a number : 5\n",
      "4\n",
      "3\n",
      "2\n",
      "1\n",
      "0\n"
     ]
    }
   ],
   "source": [
    "#Write a python program which will accept a digit and print All the numbers before it till 0\n",
    "x = int(input(\"enter a number : \"))\n",
    "for i in range(x-1,-1,-1):\n",
    "    print(i)\n"
   ]
  },
  {
   "cell_type": "code",
   "execution_count": 53,
   "id": "8448906a",
   "metadata": {},
   "outputs": [
    {
     "name": "stdout",
     "output_type": "stream",
     "text": [
      "enter any number: 5\n",
      "enter any symbol +, -, *, /, %, **, // : +\n",
      "enter any number: 5\n",
      "5+5=10\n",
      "enter any number: 6\n",
      "enter any symbol +, -, *, /, %, **, // : *\n",
      "enter any number: 8\n",
      "6*8=48\n",
      "enter any number: 7\n",
      "enter any symbol +, -, *, /, %, **, // : /\n",
      "enter any number: 49\n",
      "7/49=0\n",
      "enter any number: 49\n",
      "enter any symbol +, -, *, /, %, **, // : /\n",
      "enter any number: 7\n",
      "49/7=7\n",
      "enter any number: c\n"
     ]
    }
   ],
   "source": [
    "#dynamic calculator which will run continually till you press “c\"\n",
    "while True:\n",
    "    i3 = input(\"enter any number: \")\n",
    "    if i3==\"c\":\n",
    "        break\n",
    "    else:\n",
    "        i1=int(i3)\n",
    "        symbol=input(\"enter any symbol +, -, *, /, %, **, // : \")\n",
    "        i2 = int(input(\"enter any number: \"))\n",
    "    if symbol == \"+\":\n",
    "        print(\"{}+{}={}\".format(i1, i2, i1+i2))\n",
    "    elif symbol ==\"-\":\n",
    "        print(\"{}-{}={}\".format(i1,i2,i1-i2))\n",
    "    elif symbol == \"*\":\n",
    "        print(\"{}*{}={}\".format(i1, i2, i1*i2))\n",
    "    elif symbol ==\"/\":\n",
    "        print(\"{}/{}={}\".format(i1, i2, int(i1/i2)))\n",
    "    elif symbol == \"%\":\n",
    "        print(\"{}%{}={}\".format(i1, i2, int(i1%i2)))\n",
    "    elif symbol == \"**\":\n",
    "        print(\"{}**{}={}\".format(i1, i2, int(i1**i2)))\n",
    "    elif symbol == \"//\":\n",
    "        print(\"{}//{}={}\".format(i1, i2, int(i1//i2)))\n",
    "    else:\n",
    "        print(\"enter correct symbol\")\n",
    "    \n",
    "\n"
   ]
  },
  {
   "cell_type": "code",
   "execution_count": null,
   "id": "e62ce1c9",
   "metadata": {},
   "outputs": [],
   "source": []
  },
  {
   "cell_type": "code",
   "execution_count": null,
   "id": "d50e2516",
   "metadata": {},
   "outputs": [],
   "source": []
  }
 ],
 "metadata": {
  "kernelspec": {
   "display_name": "Python 3 (ipykernel)",
   "language": "python",
   "name": "python3"
  },
  "language_info": {
   "codemirror_mode": {
    "name": "ipython",
    "version": 3
   },
   "file_extension": ".py",
   "mimetype": "text/x-python",
   "name": "python",
   "nbconvert_exporter": "python",
   "pygments_lexer": "ipython3",
   "version": "3.10.9"
  }
 },
 "nbformat": 4,
 "nbformat_minor": 5
}
