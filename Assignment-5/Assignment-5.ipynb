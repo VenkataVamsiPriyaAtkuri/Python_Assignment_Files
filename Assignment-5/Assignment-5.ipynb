{
 "cells": [
  {
   "cell_type": "code",
   "execution_count": 2,
   "id": "5ad0c12f",
   "metadata": {},
   "outputs": [
    {
     "name": "stdout",
     "output_type": "stream",
     "text": [
      "Enter the length: 6\n",
      "Enter a element: 1\n",
      "Enter a element: 2\n",
      "Enter a element: 3\n",
      "Enter a element: 1\n",
      "Enter a element: 4\n",
      "Enter a element: 5\n",
      "[1, 2, 3, 1, 4, 5]\n",
      "[1, 2, 3, 4, 5]\n"
     ]
    }
   ],
   "source": [
    "#Given a list of numbers, write a python program that returns a new list which Has all duplicate elements removed. And is sorted in an increasing order.\n",
    "l=[]\n",
    "a=int(input(\"Enter the length: \"))\n",
    "for x in range(0,a):\n",
    "    l.append(int(input(\"Enter a element: \")))\n",
    "print(l)\n",
    "for y in l:\n",
    "    if l.count(y)>1:\n",
    "        l.remove(y) \n",
    "    else:\n",
    "        continue\n",
    "l.sort()\n",
    "print(l)"
   ]
  },
  {
   "cell_type": "code",
   "execution_count": 3,
   "id": "e446b0f7",
   "metadata": {},
   "outputs": [
    {
     "name": "stdout",
     "output_type": "stream",
     "text": [
      "(1, '1')\n",
      "(2, 'b')\n",
      "(3, '3')\n",
      "(4, 'd')\n"
     ]
    }
   ],
   "source": [
    "#Write a Python program where you will iterate over both keys and values in dictionaries\n",
    "dictionary = {1:\"1\",2:\"b\",3:\"3\",4:\"d\"}\n",
    "for i in dictionary.items():\n",
    "    print(i)"
   ]
  },
  {
   "cell_type": "code",
   "execution_count": 1,
   "id": "96cc1457",
   "metadata": {},
   "outputs": [
    {
     "name": "stdout",
     "output_type": "stream",
     "text": [
      "enter the range: 5\n",
      "enter key: 1\n",
      "enter names: kelly\n",
      "enter key: 2\n",
      "enter names: anna\n",
      "enter key: 3\n",
      "enter names: vict\n",
      "enter key: 4\n",
      "enter names: brad\n",
      "enter key: 5\n",
      "enter names: anu\n",
      "{'1': 'kelly', '2': 'anna', '3': 'vict', '4': 'brad', '5': 'anu'}\n",
      "['anna', 'anu', 'brad', 'kelly', 'vict']\n"
     ]
    }
   ],
   "source": [
    "#Write a Python program that takes a dictionary of student names and returns a list of student names in alphabetical order\n",
    "num = int(input(\"enter the range: \"))\n",
    "dic={}\n",
    "for i in range(num):\n",
    "    key=input(\"enter key: \")\n",
    "    values=input(\"enter names: \")\n",
    "    dic[key]=values\n",
    "print(dic)\n",
    "new={}\n",
    "for i in dic.values():\n",
    "    new=sorted(dic.values())\n",
    "print(new)"
   ]
  },
  {
   "cell_type": "code",
   "execution_count": 6,
   "id": "c2152406",
   "metadata": {},
   "outputs": [
    {
     "name": "stdout",
     "output_type": "stream",
     "text": [
      "Enter a string with '0' and '1': 100100\n",
      "['True', 'False', 'False', 'True', 'False', 'False']\n"
     ]
    }
   ],
   "source": [
    "#Write a Python which returns a new list of Booleans, from a given number. Iterating through the number one digit at a time, append True if the digit is 1 and False if it is 0.\n",
    "\n",
    "l=[]\n",
    "a=input(\"Enter a string with '0' and '1': \")\n",
    "for x in a:\n",
    "    if x==\"1\":\n",
    "        l.append(\"True\")\n",
    "    else:\n",
    "        l.append(\"False\")\n",
    "print(l)"
   ]
  },
  {
   "cell_type": "code",
   "execution_count": 8,
   "id": "3e1d99ad",
   "metadata": {},
   "outputs": [
    {
     "name": "stdout",
     "output_type": "stream",
     "text": [
      "Enter a string: my name is ame\n",
      "{'m': 3, 'y': 1, ' ': 3, 'n': 1, 'a': 2, 'e': 2, 'i': 1, 's': 1}\n"
     ]
    }
   ],
   "source": [
    "#Write a Python program where you will return a dictionary where the keys will be the character and the values will be the occurrence of the character in the string, and it should for any string inputs (dynamic)\n",
    "dic={}\n",
    "a=input(\"Enter a string: \")\n",
    "for i in a:\n",
    "    if not(x==\" \"):\n",
    "        dic.update({i:a.count(i)})\n",
    "    else:\n",
    "        continue\n",
    "print(dic)"
   ]
  },
  {
   "cell_type": "code",
   "execution_count": 15,
   "id": "1e22a7fe",
   "metadata": {},
   "outputs": [
    {
     "name": "stdout",
     "output_type": "stream",
     "text": [
      "enter length: 2\n",
      "enter name: kelly\n",
      "enter age: 25\n",
      "enter name: elly\n",
      "enter age: 52\n",
      "{'kelly': '25', 'elly': '52'}\n",
      "elly\n"
     ]
    }
   ],
   "source": [
    "#Given a dictionary containing the names and ages of a group of people, return the name of the oldest person\n",
    "n=int(input(\"enter length: \"))\n",
    "dict_={}\n",
    "for i in range(n):\n",
    "    key=input(\"enter name: \")\n",
    "    values=input(\"enter age: \")\n",
    "    dict_[key]=values\n",
    "print(dict_)\n",
    "older=max(dict_.values())\n",
    "for name,age in dict_.items():\n",
    "    if(age==older):\n",
    "        print(name)"
   ]
  },
  {
   "cell_type": "code",
   "execution_count": 7,
   "id": "2614e65f",
   "metadata": {},
   "outputs": [
    {
     "name": "stdout",
     "output_type": "stream",
     "text": [
      "enter start to play: start\n",
      "Player1\n",
      "Choose from rock,paper and scissors: rock\n",
      "\n",
      "Player2\n",
      "Choose from rock,paper and scissors: paper\n",
      "\n",
      "Player 2 won!\n",
      "\n",
      "press any key to exit or start to continue: start\n",
      "Player1\n",
      "Choose from rock,paper and scissors: paper\n",
      "\n",
      "Player2\n",
      "Choose from rock,paper and scissors: rock\n",
      "\n",
      "Player 1 wins!\n",
      "\n",
      "press any key to exit or start to continue: start\n",
      "Player1\n",
      "Choose from rock,paper and scissors: rock\n",
      "\n",
      "Player2\n",
      "Choose from rock,paper and scissors: rock\n",
      "\n",
      "It's a tie\n",
      "\n",
      "press any key to exit or start to continue: b\n"
     ]
    }
   ],
   "source": [
    "#Write a Python program to create a Rock, Paper, Scissor game, use two inputs for two players:\n",
    "#Conditions: -Rock beats Scissors, Scissors beats Paper, Paper beats Rock\n",
    "y=input(\"enter start to play: \")\n",
    "while y.lower()==\"start\":\n",
    "    p1=input(\"Player1\\nChoose from rock,paper and scissors: \")\n",
    "    p2=input(\"\\nPlayer2\\nChoose from rock,paper and scissors: \")\n",
    "    if (p1==\"rock\" and p2==\"paper\") or (p1==\"paper\" and p2==\"scissors\") or (p1==\"scissors\" and p2==\"rock\"):\n",
    "        print(\"\\nPlayer 2 won!\")\n",
    "    elif (p1 == \"paper\" and p2 == \"rock\") or (p1 == \"scissors\" and p2 == \"paper\") or (p1 == \"rock\" and p2 == \"scissors\"):\n",
    "        print(\"\\nPlayer 1 wins!\")\n",
    "    elif (p1 == p2):\n",
    "        print(\"\\nIt's a tie\")\n",
    "    else:\n",
    "        pass\n",
    "        \n",
    "    y=input(\"\\npress any key to exit or start to continue: \")"
   ]
  },
  {
   "cell_type": "code",
   "execution_count": 15,
   "id": "7e53043e",
   "metadata": {},
   "outputs": [
    {
     "name": "stdout",
     "output_type": "stream",
     "text": [
      "Enter amount in your wallet: 30\n",
      "Your balance is:  30\n",
      "['water bottles', 'chips']\n"
     ]
    }
   ],
   "source": [
    "#Create a program that returns a list of items that you can afford in the store with the money you have in your wallet. Create a dictionary with items as key and price as values\n",
    "item = {\"water bottles\": 20, \"chips\":10, \"Iphone\":49000, \"towel\":90, \"pens\":58, \"cake\":400}\n",
    "amount = int(input(\"Enter amount in your wallet: \"))\n",
    "lst = []; a = 0\n",
    "for i, y in item.items():\n",
    "    a+=y\n",
    "    if a<=amount:\n",
    "        lst.append(i)\n",
    "print(\"Your balance is: \", amount)\n",
    "print(lst)"
   ]
  },
  {
   "cell_type": "code",
   "execution_count": 18,
   "id": "47601f3a",
   "metadata": {},
   "outputs": [
    {
     "name": "stdout",
     "output_type": "stream",
     "text": [
      "{1, 2, 3, 4, 5, 6, 7}\n"
     ]
    }
   ],
   "source": [
    "# Write a Python program to create a union of sets.\n",
    "\n",
    "set1 = set((1,2,3,4,5))\n",
    "set2 = set((3,4,5,6,7))\n",
    "set3 = set1.union(set2)\n",
    "print(set3)"
   ]
  },
  {
   "cell_type": "code",
   "execution_count": 20,
   "id": "9392d094",
   "metadata": {},
   "outputs": [
    {
     "name": "stdout",
     "output_type": "stream",
     "text": [
      "Enter the set length: 4\n",
      "\n",
      "enter a element: 1\n",
      "\n",
      "enter a element: 2\n",
      "\n",
      "enter a element: 3\n",
      "\n",
      "enter a element: 4\n",
      "\n",
      "enter the element to be checked in the set: 6\n",
      "6  is not present in the set {'3', '4', '2', '1'}\n"
     ]
    }
   ],
   "source": [
    "#Write a Python program to check if a given value is present in a set or not(Dynamic)\n",
    "set_ = set()\n",
    "a = int(input(\"Enter the set length: \"))\n",
    "for i in range(0,a):\n",
    "    e1=input(\"\\nenter a element: \")\n",
    "    set_.update(e1)\n",
    "b = input(\"\\nenter the element to be checked in the set: \")\n",
    "if b in set_:\n",
    "    print(b,\" is present in the set\", set_)\n",
    "else:\n",
    "    print(b,\" is not present in the set\", set_)"
   ]
  },
  {
   "cell_type": "code",
   "execution_count": 11,
   "id": "c524f74e",
   "metadata": {},
   "outputs": [
    {
     "name": "stdout",
     "output_type": "stream",
     "text": [
      "enter the string: Cat dog dog cat horse dog dog mouse horse dog mouse tiger lion tiger  cat mouse snail\n",
      "[('Cat', 1), ('cat', 2), ('dog', 5), ('horse', 2), ('lion', 1), ('mouse', 3), ('snail', 1), ('tiger', 2)]\n"
     ]
    }
   ],
   "source": [
    "#Write a Python program to find the occurrences of 3 most common words in a given text. And make it as a dictionaries\n",
    "string=input(\"enter the string: \")\n",
    "l=string.split()\n",
    "d={}\n",
    "c=0\n",
    "for i in l:\n",
    "    m=l.count(i)\n",
    "    d[i]=m\n",
    "\n",
    "print(dic)"
   ]
  },
  {
   "cell_type": "code",
   "execution_count": 8,
   "id": "0cd22716",
   "metadata": {},
   "outputs": [
    {
     "name": "stdout",
     "output_type": "stream",
     "text": [
      "Enter the length: 3\n",
      "\n",
      "Enter subject: Tel\n",
      "\n",
      "Enter marks: 95\n",
      "\n",
      "Enter subject: Hin\n",
      "\n",
      "Enter marks: 92\n",
      "\n",
      "Enter subject: Eng\n",
      "\n",
      "Enter marks: 61\n",
      "\n",
      "Subject: \tMarks:\n",
      "\n",
      "Tel \t \t 95\n",
      "Hin \t \t 92\n",
      "Eng \t \t 61\n"
     ]
    }
   ],
   "source": [
    "#Write a Python program that accepts name of given subject and mark, and make subjects as keys in dictionaries and marks as values and print the finaldictionary with subjects and marks\n",
    "d={}\n",
    "l=int(input(\"Enter the length: \"))\n",
    "for z in range(0,l):\n",
    "    k=input(\"\\nEnter subject: \")\n",
    "    v=int(input(\"\\nEnter marks: \"))\n",
    "    d.update({k:v})\n",
    "print(\"\\nSubject:\",\"\\tMarks:\\n\")\n",
    "for x,y in d.items():\n",
    "    print(x,\"\\t \\t\",y)"
   ]
  },
  {
   "cell_type": "code",
   "execution_count": null,
   "id": "8336429f",
   "metadata": {},
   "outputs": [],
   "source": []
  },
  {
   "cell_type": "code",
   "execution_count": null,
   "id": "db373869",
   "metadata": {},
   "outputs": [],
   "source": []
  }
 ],
 "metadata": {
  "kernelspec": {
   "display_name": "Python 3 (ipykernel)",
   "language": "python",
   "name": "python3"
  },
  "language_info": {
   "codemirror_mode": {
    "name": "ipython",
    "version": 3
   },
   "file_extension": ".py",
   "mimetype": "text/x-python",
   "name": "python",
   "nbconvert_exporter": "python",
   "pygments_lexer": "ipython3",
   "version": "3.10.9"
  }
 },
 "nbformat": 4,
 "nbformat_minor": 5
}
