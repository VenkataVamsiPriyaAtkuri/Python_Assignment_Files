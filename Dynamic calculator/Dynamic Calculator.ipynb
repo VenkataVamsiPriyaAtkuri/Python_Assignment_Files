{
 "cells": [
  {
   "cell_type": "code",
   "execution_count": 1,
   "id": "9afb3659",
   "metadata": {},
   "outputs": [
    {
     "name": "stdout",
     "output_type": "stream",
     "text": [
      "enter any number: 5\n",
      "enter any symbol +, -, *, /, %, **, // : **\n",
      "enter any number: 5\n",
      "5**5=3125\n",
      "enter any number: q\n"
     ]
    }
   ],
   "source": [
    "while True:\n",
    "    i3 = input(\"enter any number: \")\n",
    "    if i3==\"q\":\n",
    "        break\n",
    "    else:\n",
    "        i1=int(i3)\n",
    "        symbol=input(\"enter any symbol +, -, *, /, %, **, // : \")\n",
    "        i2 = int(input(\"enter any number: \"))\n",
    "    if symbol == \"+\":\n",
    "        print(\"{}+{}={}\".format(i1, i2, i1+i2))\n",
    "    elif symbol ==\"-\":\n",
    "        print(\"{}-{}={}\".format(i1,i2,i1-i2))\n",
    "    elif symbol == \"*\":\n",
    "        print(\"{}*{}={}\".format(i1, i2, i1*i2))\n",
    "    elif symbol ==\"/\":\n",
    "        print(\"{}/{}={}\".format(i1, i2, int(i1/i2)))\n",
    "    elif symbol == \"%\":\n",
    "        print(\"{}%{}={}\".format(i1, i2, int(i1%i2)))\n",
    "    elif symbol == \"**\":\n",
    "        print(\"{}**{}={}\".format(i1, i2, int(i1**i2)))\n",
    "    elif symbol == \"//\":\n",
    "        print(\"{}//{}={}\".format(i1, i2, int(i1//i2)))\n",
    "    else:\n",
    "        print(\"enter correct symbol\")\n",
    "    "
   ]
  },
  {
   "cell_type": "code",
   "execution_count": null,
   "id": "282e792f",
   "metadata": {},
   "outputs": [],
   "source": []
  }
 ],
 "metadata": {
  "kernelspec": {
   "display_name": "Python 3 (ipykernel)",
   "language": "python",
   "name": "python3"
  },
  "language_info": {
   "codemirror_mode": {
    "name": "ipython",
    "version": 3
   },
   "file_extension": ".py",
   "mimetype": "text/x-python",
   "name": "python",
   "nbconvert_exporter": "python",
   "pygments_lexer": "ipython3",
   "version": "3.10.9"
  }
 },
 "nbformat": 4,
 "nbformat_minor": 5
}
