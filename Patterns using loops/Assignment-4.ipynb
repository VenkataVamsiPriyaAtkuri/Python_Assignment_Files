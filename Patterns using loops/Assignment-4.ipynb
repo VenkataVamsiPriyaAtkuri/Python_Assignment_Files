{
 "cells": [
  {
   "cell_type": "markdown",
   "id": "c6aea36f",
   "metadata": {},
   "source": [
    "# python program to print the below pattern using for loop as or while loop"
   ]
  },
  {
   "cell_type": "markdown",
   "id": "90089dff",
   "metadata": {},
   "source": [
    "## Using while loop"
   ]
  },
  {
   "cell_type": "code",
   "execution_count": 1,
   "id": "a1b699ef",
   "metadata": {},
   "outputs": [
    {
     "name": "stdout",
     "output_type": "stream",
     "text": [
      "1\n",
      "2 2\n",
      "3 3 3\n",
      "4 4 4 4\n",
      "5 5 5 5 5\n"
     ]
    }
   ],
   "source": [
    "a=1\n",
    "while a<=5:\n",
    "    if a==1:\n",
    "        print(\"1\")\n",
    "    elif a==2:\n",
    "        print(\"2 2\")\n",
    "    elif a==3:\n",
    "        print(\"3 3 3\")\n",
    "    elif a==4:\n",
    "        print(\"4 4 4 4\")\n",
    "    else:\n",
    "        print(\"5 5 5 5 5\")\n",
    "    a+=1\n",
    "    \n",
    "        \n",
    "    "
   ]
  },
  {
   "cell_type": "code",
   "execution_count": 2,
   "id": "91ada7c4",
   "metadata": {},
   "outputs": [
    {
     "name": "stdout",
     "output_type": "stream",
     "text": [
      "1\n",
      "1 2\n",
      "1 2 3\n",
      "1 2 3 4\n",
      "1 2 3 4 5\n"
     ]
    }
   ],
   "source": [
    "b=1\n",
    "while b<=5:\n",
    "    if b==1:\n",
    "        print(\"1\")\n",
    "    elif b==2:\n",
    "        print(\"1 2\")\n",
    "    elif b==3:\n",
    "        print(\"1 2 3\")\n",
    "    elif b==4:\n",
    "        print(\"1 2 3 4\")\n",
    "    else:\n",
    "        print(\"1 2 3 4 5\")\n",
    "    b+=1  \n",
    "    "
   ]
  },
  {
   "cell_type": "code",
   "execution_count": 3,
   "id": "96a4d681",
   "metadata": {},
   "outputs": [
    {
     "name": "stdout",
     "output_type": "stream",
     "text": [
      "1 1 1 1 1\n",
      "2 2 2 2\n",
      "3 3 3\n",
      "4 4 \n",
      "5 \n"
     ]
    }
   ],
   "source": [
    "c=1\n",
    "while c<=5:\n",
    "    if c==1:\n",
    "        print(\"1 1 1 1 1\")\n",
    "    elif c==2:\n",
    "        print(\"2 2 2 2\")\n",
    "    elif c==3:\n",
    "        print(\"3 3 3\")\n",
    "    elif c==4:\n",
    "        print(\"4 4 \")\n",
    "    else:\n",
    "        print(\"5 \")\n",
    "    c+=1\n",
    "    \n",
    "        \n",
    "    "
   ]
  },
  {
   "cell_type": "code",
   "execution_count": 4,
   "id": "d1a305fe",
   "metadata": {},
   "outputs": [
    {
     "name": "stdout",
     "output_type": "stream",
     "text": [
      "5 5 5 5 5\n",
      "5 5 5 5\n",
      "5 5 5\n",
      "5 5\n",
      "5\n"
     ]
    }
   ],
   "source": [
    "d=1\n",
    "while d<=5:\n",
    "    if d==1:\n",
    "        print(\"5 5 5 5 5\")\n",
    "    elif d==2:\n",
    "        print(\"5 5 5 5\")\n",
    "    elif d==3:\n",
    "        print(\"5 5 5\")\n",
    "    elif d==4:\n",
    "        print(\"5 5\")\n",
    "    else:\n",
    "        print(\"5\")\n",
    "    d+=1"
   ]
  },
  {
   "cell_type": "code",
   "execution_count": 5,
   "id": "58d09adb",
   "metadata": {},
   "outputs": [
    {
     "name": "stdout",
     "output_type": "stream",
     "text": [
      "0 1 2 3 4 5\n",
      "0 1 2 3 4\n",
      "0 1 2 3\n",
      "0 1 2\n",
      "0 1\n"
     ]
    }
   ],
   "source": [
    "e=1\n",
    "while e<=5:\n",
    "    if e==1:\n",
    "        print(\"0 1 2 3 4 5\")\n",
    "    elif e==2:\n",
    "        print(\"0 1 2 3 4\")\n",
    "    elif e==3:\n",
    "        print(\"0 1 2 3\")\n",
    "    elif e==4:\n",
    "        print(\"0 1 2\")\n",
    "    else:\n",
    "        print(\"0 1\")\n",
    "    e+=1"
   ]
  },
  {
   "cell_type": "code",
   "execution_count": 6,
   "id": "45fb8fbd",
   "metadata": {},
   "outputs": [
    {
     "name": "stdout",
     "output_type": "stream",
     "text": [
      "1\n",
      "3 3\n",
      "5 5 5\n",
      "7 7 7 7\n",
      "9 9 9 9 9\n"
     ]
    }
   ],
   "source": [
    "f=1\n",
    "while f<=5:\n",
    "    if f==1:\n",
    "        print(\"1\")\n",
    "    elif f==2:\n",
    "        print(\"3 3\")\n",
    "    elif f==3:\n",
    "        print(\"5 5 5\")\n",
    "    elif f==4:\n",
    "        print(\"7 7 7 7\")\n",
    "    else:\n",
    "        print(\"9 9 9 9 9\")\n",
    "    f+=1"
   ]
  },
  {
   "cell_type": "code",
   "execution_count": 7,
   "id": "6c2979b2",
   "metadata": {},
   "outputs": [
    {
     "name": "stdout",
     "output_type": "stream",
     "text": [
      "5 5 5 5 5\n",
      "4 4 4 4\n",
      "3 3 3\n",
      "2 2\n",
      "1\n"
     ]
    }
   ],
   "source": [
    "g=1\n",
    "while g<=5:\n",
    "    if g==1:\n",
    "        print(\"5 5 5 5 5\")\n",
    "    elif g==2:\n",
    "        print(\"4 4 4 4\")\n",
    "    elif g==3:\n",
    "        print(\"3 3 3\")\n",
    "    elif g==4:\n",
    "        print(\"2 2\")\n",
    "    else:\n",
    "        print(\"1\")\n",
    "    g+=1"
   ]
  },
  {
   "cell_type": "code",
   "execution_count": 8,
   "id": "265ca6d8",
   "metadata": {},
   "outputs": [
    {
     "name": "stdout",
     "output_type": "stream",
     "text": [
      "1\n",
      "2 1\n",
      "3 2 1\n",
      "4 3 2 1\n",
      "5 4 3 2 1\n"
     ]
    }
   ],
   "source": [
    "h=1\n",
    "while h<=5:\n",
    "    if h==1:\n",
    "        print(\"1\")\n",
    "    elif h==2:\n",
    "        print(\"2 1\")\n",
    "    elif h==3:\n",
    "        print(\"3 2 1\")\n",
    "    elif h==4:\n",
    "        print(\"4 3 2 1\")\n",
    "    else:\n",
    "        print(\"5 4 3 2 1\")\n",
    "    h+=1"
   ]
  },
  {
   "cell_type": "code",
   "execution_count": 9,
   "id": "53468281",
   "metadata": {},
   "outputs": [
    {
     "name": "stdout",
     "output_type": "stream",
     "text": [
      "5 4 3 2 1\n",
      "4 3 2 1\n",
      "3 2 1\n",
      "2 1\n",
      "1\n"
     ]
    }
   ],
   "source": [
    "i=0\n",
    "while i<=4:\n",
    "    if i==0:\n",
    "        print(\"5 4 3 2 1\")\n",
    "    elif i==1:\n",
    "        print(\"4 3 2 1\")\n",
    "    elif i==2:\n",
    "        print(\"3 2 1\")\n",
    "    elif i==3:\n",
    "        print(\"2 1\")\n",
    "    else:\n",
    "        print(\"1\")\n",
    "    i+=1"
   ]
  },
  {
   "cell_type": "code",
   "execution_count": 10,
   "id": "e157dd79",
   "metadata": {},
   "outputs": [
    {
     "name": "stdout",
     "output_type": "stream",
     "text": [
      "1\n",
      "3 2\n",
      "6 5 4\n",
      "10 9 8 7\n"
     ]
    }
   ],
   "source": [
    "j=1\n",
    "while j<=4:\n",
    "    if j==1:\n",
    "        print(\"1\")\n",
    "    elif j==2:\n",
    "        print(\"3 2\")\n",
    "    elif j==3:\n",
    "        print(\"6 5 4\")\n",
    "    else:\n",
    "        print(\"10 9 8 7\")\n",
    "    j+=1"
   ]
  },
  {
   "cell_type": "code",
   "execution_count": 11,
   "id": "538c82d5",
   "metadata": {},
   "outputs": [
    {
     "name": "stdout",
     "output_type": "stream",
     "text": [
      "     1\n",
      "   1 2\n",
      "  1 2 3\n",
      " 1 2 3 4\n",
      "1 2 3 4 5\n"
     ]
    }
   ],
   "source": [
    "k=0\n",
    "while k<=4:\n",
    "    if k==0:\n",
    "        print(\"     1\")\n",
    "    elif k==1:\n",
    "        print(\"   1 2\")\n",
    "    elif k==2:\n",
    "        print(\"  1 2 3\")\n",
    "    elif k==3:\n",
    "        print(\" 1 2 3 4\")\n",
    "    else:\n",
    "        print(\"1 2 3 4 5\")\n",
    "    k+=1"
   ]
  },
  {
   "cell_type": "code",
   "execution_count": 12,
   "id": "20b78749",
   "metadata": {},
   "outputs": [
    {
     "name": "stdout",
     "output_type": "stream",
     "text": [
      "1\n",
      "1 1\n",
      "1 2 1\n",
      "1 3 3 1\n",
      "1 4 6 4 1\n",
      "1 5 10 10 5 1\n",
      "1 6 15 20 15 6 1\n"
     ]
    }
   ],
   "source": [
    "l=1\n",
    "while l<=7:\n",
    "    if l==1:\n",
    "        print(\"1\")\n",
    "    elif l==2:\n",
    "        print(\"1 1\")\n",
    "    elif l==3:\n",
    "        print(\"1 2 1\")\n",
    "    elif l==4:\n",
    "        print(\"1 3 3 1\")\n",
    "    elif l==5:\n",
    "        print(\"1 4 6 4 1\")\n",
    "    elif l==6:\n",
    "        print(\"1 5 10 10 5 1\")\n",
    "    else:\n",
    "        print(\"1 6 15 20 15 6 1\")\n",
    "    l+=1"
   ]
  },
  {
   "cell_type": "code",
   "execution_count": 13,
   "id": "2fe0e848",
   "metadata": {},
   "outputs": [
    {
     "name": "stdout",
     "output_type": "stream",
     "text": [
      "1 2 3 4 5\n",
      "2 2 3 4 5\n",
      "3 3 3 4 5\n",
      "4 4 4 4 5\n",
      "5 5 5 5 5\n"
     ]
    }
   ],
   "source": [
    "m=0\n",
    "while m<=4:\n",
    "    if m==0:\n",
    "        print(\"1 2 3 4 5\")\n",
    "    elif m==1:\n",
    "        print(\"2 2 3 4 5\")\n",
    "    elif m==2:\n",
    "        print(\"3 3 3 4 5\")\n",
    "    elif m==3:\n",
    "        print(\"4 4 4 4 5\")\n",
    "    else:\n",
    "        print(\"5 5 5 5 5\")\n",
    "    m+=1"
   ]
  },
  {
   "cell_type": "markdown",
   "id": "17e26da9",
   "metadata": {},
   "source": [
    "# Patterns using for loop"
   ]
  },
  {
   "cell_type": "code",
   "execution_count": 14,
   "id": "9eeaa7ae",
   "metadata": {},
   "outputs": [
    {
     "name": "stdout",
     "output_type": "stream",
     "text": [
      "1 \n",
      "2 4 \n",
      "3 6 9 \n",
      "4 8 12 16 \n",
      "5 10 15 20 25 \n",
      "6 12 18 24 30 36 \n",
      "7 14 21 28 35 42 49 \n",
      "8 16 24 32 40 48 56 64 \n"
     ]
    }
   ],
   "source": [
    "\n",
    "for n in range(1,9):\n",
    "    i=1\n",
    "    while i<=n:\n",
    "        print((n*i),end=\" \")\n",
    "        i=i+1\n",
    "    print()"
   ]
  },
  {
   "cell_type": "code",
   "execution_count": 15,
   "id": "b273c439",
   "metadata": {},
   "outputs": [
    {
     "name": "stdout",
     "output_type": "stream",
     "text": [
      "* \n",
      "* * \n",
      "* * * \n",
      "* * * * \n",
      "* * * * * \n",
      "\n"
     ]
    }
   ],
   "source": [
    "o = 5\n",
    "for i in range(1,o+1):\n",
    "    print('* '*i)\n",
    "print( )\n",
    "    \n"
   ]
  },
  {
   "cell_type": "code",
   "execution_count": 16,
   "id": "aca0ac88",
   "metadata": {},
   "outputs": [
    {
     "name": "stdout",
     "output_type": "stream",
     "text": [
      "        * \n",
      "      * * \n",
      "    * * * \n",
      "  * * * * \n",
      "* * * * * \n"
     ]
    }
   ],
   "source": [
    "n = 5\n",
    "for i in range(n):\n",
    "    for j in range(n - i - 1):\n",
    "        print(\" \", end=\" \")\n",
    "    for k in range(i + 1):\n",
    "        print(\"*\", end=\" \")\n",
    "    print()"
   ]
  },
  {
   "cell_type": "code",
   "execution_count": 17,
   "id": "7045cae7",
   "metadata": {},
   "outputs": [
    {
     "name": "stdout",
     "output_type": "stream",
     "text": [
      "* * * * * \n",
      "* * * * \n",
      "* * * \n",
      "* * \n",
      "* \n",
      "\n"
     ]
    }
   ],
   "source": [
    "o = 1\n",
    "for i in range(n):\n",
    "    print('* '*(n-i))\n",
    "print( )"
   ]
  },
  {
   "cell_type": "code",
   "execution_count": 19,
   "id": "fcdb1bd9",
   "metadata": {},
   "outputs": [
    {
     "name": "stdout",
     "output_type": "stream",
     "text": [
      " * * * * * * \n",
      "  * * * * * \n",
      "   * * * * \n",
      "    * * * \n",
      "     * * \n",
      "      * \n"
     ]
    }
   ],
   "source": [
    "n = 7\n",
    "for i in range(n-1):\n",
    "    print(' '*(i+1)+'* '*(n-i-1))"
   ]
  },
  {
   "cell_type": "code",
   "execution_count": 23,
   "id": "57ee9a06",
   "metadata": {},
   "outputs": [
    {
     "name": "stdout",
     "output_type": "stream",
     "text": [
      "* * * * * * * \n",
      "* * * * * * * \n",
      "* * * * * * * \n",
      "* * * * * * * \n",
      "* * * * * * * \n",
      "* * * * * * * \n",
      "* * * * * * * \n",
      "\n"
     ]
    }
   ],
   "source": [
    "o = 5\n",
    "for i in range(n):\n",
    "    print('* '*(n))\n",
    "print( )"
   ]
  },
  {
   "cell_type": "code",
   "execution_count": null,
   "id": "88f14033",
   "metadata": {},
   "outputs": [],
   "source": []
  }
 ],
 "metadata": {
  "kernelspec": {
   "display_name": "Python 3 (ipykernel)",
   "language": "python",
   "name": "python3"
  },
  "language_info": {
   "codemirror_mode": {
    "name": "ipython",
    "version": 3
   },
   "file_extension": ".py",
   "mimetype": "text/x-python",
   "name": "python",
   "nbconvert_exporter": "python",
   "pygments_lexer": "ipython3",
   "version": "3.10.9"
  }
 },
 "nbformat": 4,
 "nbformat_minor": 5
}
