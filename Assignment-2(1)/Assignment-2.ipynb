{
 "cells": [
  {
   "cell_type": "code",
   "execution_count": 1,
   "id": "ce419c5e",
   "metadata": {},
   "outputs": [
    {
     "name": "stdout",
     "output_type": "stream",
     "text": [
      "enter a number : 10\n",
      "enter a number : 10\n",
      "10*10=100\n",
      "10/10=1.0\n"
     ]
    }
   ],
   "source": [
    "#program to accept two numbers from the user and calculate multiplication, division\n",
    "\n",
    "i1 = int(input(\"enter a number : \"))\n",
    "i2 = int(input(\"enter a number : \"))\n",
    "    \n",
    "print(\"{}*{}={}\".format(i1, i2, (i1*i2)))\n",
    "\n",
    "print(\"{}/{}={}\".format(i1, i2, (i1/i2)))\n",
    "   "
   ]
  },
  {
   "cell_type": "code",
   "execution_count": 2,
   "id": "0d1b6e0a",
   "metadata": {},
   "outputs": [
    {
     "name": "stdout",
     "output_type": "stream",
     "text": [
      "Enter a string : python\n",
      " pto\n"
     ]
    }
   ],
   "source": [
    "#python program to print the characters from a string that are present at an even index\n",
    "a=input(\"Enter a string : \")\n",
    "b=\" \"\n",
    "for y in range(0,len(a)):\n",
    "    if y%2==0:\n",
    "        b+=a[y]\n",
    "    else:\n",
    "        continue\n",
    "print(b)"
   ]
  },
  {
   "cell_type": "code",
   "execution_count": 3,
   "id": "b67d3a14",
   "metadata": {},
   "outputs": [
    {
     "name": "stdout",
     "output_type": "stream",
     "text": [
      "Enter a string : python\n",
      " yhn\n"
     ]
    }
   ],
   "source": [
    "#python program to print the characters from a string that are present at an odd index\n",
    "\n",
    "a=input(\"Enter a string : \")\n",
    "b=\" \"\n",
    "for y in range(0,len(a)):\n",
    "    if y%2!=0:\n",
    "        b+=a[y]\n",
    "    else:\n",
    "        continue\n",
    "print(b)"
   ]
  },
  {
   "cell_type": "code",
   "execution_count": 76,
   "id": "aedf08cf",
   "metadata": {},
   "outputs": [
    {
     "name": "stdout",
     "output_type": "stream",
     "text": [
      "enter a number : 3\n",
      "enter a number : 6\n",
      "3-6=-3\n"
     ]
    }
   ],
   "source": [
    "# python program which will print the sum of the two numbers if the two numbers are even or it will print the difference of two numbers\n",
    "num1 = int(input(\"enter a number : \"))\n",
    "num2 = int(input(\"enter a number : \"))\n",
    "if num1%2 == 0 and num2%2 == 0:\n",
    "    print(\"{}+{}={}\".format(num1, num2, num1+num2))\n",
    "else:\n",
    "    print(\"{}-{}={}\".format(num1, num2, num1-num2))"
   ]
  },
  {
   "cell_type": "code",
   "execution_count": 5,
   "id": "1ef005a4",
   "metadata": {},
   "outputs": [
    {
     "name": "stdout",
     "output_type": "stream",
     "text": [
      "enter a string : object oriented\n",
      " ObJeCt oRiEnTeD\n"
     ]
    }
   ],
   "source": [
    "#python program to convert all even indexed alphabets to upper and odd indexed char\n",
    "x = input(\"enter a string : \")\n",
    "y = \" \"\n",
    "for i in range(0,len(x)):\n",
    "    if i%2 == 0:\n",
    "        y+=x[i].upper()\n",
    "    else:\n",
    "        y+=x[i].lower()\n",
    "print(y)\n",
    "\n"
   ]
  },
  {
   "cell_type": "code",
   "execution_count": 6,
   "id": "93d25c10",
   "metadata": {},
   "outputs": [
    {
     "name": "stdout",
     "output_type": "stream",
     "text": [
      "enter a number : 5\n",
      "True\n"
     ]
    }
   ],
   "source": [
    "# python program which will print True if the input number is divisible by 5 or else False\n",
    "x = int(input(\"enter a number : \"))\n",
    "if x%5 == 0:\n",
    "    print(\"True\")\n",
    "else:\n",
    "    print(\"False\")"
   ]
  },
  {
   "cell_type": "code",
   "execution_count": 7,
   "id": "78c232b2",
   "metadata": {},
   "outputs": [
    {
     "name": "stdout",
     "output_type": "stream",
     "text": [
      "enter a number : 25\n",
      "enter a number : 450\n",
      "25*450=11250\n"
     ]
    }
   ],
   "source": [
    "#Given two integer numbers return their product only if the product is greater than 1000, else return their sum\n",
    "num1 = int(input(\"enter a number : \"))\n",
    "num2 = int(input(\"enter a number : \"))\n",
    "if (num1*num2 >1000):\n",
    "    print(\"{}*{}={}\".format(num1,num2,num1*num2))\n",
    "else:\n",
    "    print(\"{}+{}={}\".format(num1,num2,num1+num2))"
   ]
  },
  {
   "cell_type": "code",
   "execution_count": 8,
   "id": "c7c44c86",
   "metadata": {},
   "outputs": [
    {
     "name": "stdout",
     "output_type": "stream",
     "text": [
      "enter a string : pytho\n",
      "enter a string : javas\n",
      "pjtvos\n"
     ]
    }
   ],
   "source": [
    "#Given two strings x, y writes a program to return a new string made of x and y’s first, middle, and last characters\n",
    "a = input(\"enter a string : \")\n",
    "b = input(\"enter a string : \")\n",
    "x = len(a)//2\n",
    "y = len(b)//2\n",
    "print(a[0]+b[0]+a[x]+b[y]+a[-1]+b[-1])"
   ]
  },
  {
   "cell_type": "code",
   "execution_count": 2,
   "id": "d0a8098d",
   "metadata": {},
   "outputs": [
    {
     "name": "stdout",
     "output_type": "stream",
     "text": [
      "Enter three names separated by spaces: Ace Spade Jocker\n",
      "name1: Ace\n",
      "name2: Spade\n",
      "name3: Jocker\n"
     ]
    }
   ],
   "source": [
    "#python program to take three names as input from a user in the single input () function call\n",
    "input_names = input(\"Enter three names separated by spaces: \")\n",
    "names_list = input_names.split()\n",
    "if len(names_list) != 3:\n",
    "    print(\"Please provide exactly three names separated by spaces.\")\n",
    "else:\n",
    "    name1, name2, name3 = names_list\n",
    "    print(\"name1:\", name1)\n",
    "    print(\"name2:\", name2)\n",
    "    print(\"name3:\", name3)"
   ]
  },
  {
   "cell_type": "code",
   "execution_count": 77,
   "id": "6b9cb57c",
   "metadata": {},
   "outputs": [
    {
     "name": "stdout",
     "output_type": "stream",
     "text": [
      "Enter a string malayalam\n",
      "malayala@\n"
     ]
    }
   ],
   "source": [
    "#Python program to get a string from a given string where all occurrences of its first char have been changed to '@', except the first char itself\n",
    "a=input(\"Enter a string \")\n",
    "x=a[0]\n",
    "for i in range(1,len(a)):\n",
    "    if a[i]==a[0]:\n",
    "        x+=\"@\"\n",
    "    else:\n",
    "        x+=a[i]\n",
    "print(x)"
   ]
  },
  {
   "cell_type": "code",
   "execution_count": 79,
   "id": "af155b8f",
   "metadata": {},
   "outputs": [
    {
     "name": "stdout",
     "output_type": "stream",
     "text": [
      "enter a string : looking\n",
      "lookly\n"
     ]
    }
   ],
   "source": [
    "#Python program to add 'ing' at the end of a given string (string length should be equal to or more than 3). If the given string already ends with 'ing' then add 'ly' instead. If the string length of the given string is less than 3, leave it unchanged\n",
    "string = input('enter a string : ')\n",
    "\n",
    "if len(string)>=3:\n",
    "    new_string = string + 'ing'\n",
    "    \n",
    "    if string.endswith('ing'):\n",
    "        new_string = string.strip('ing')+'ly'\n",
    "    else :\n",
    "        new_string = string + 'ing'\n",
    "\n",
    "else:\n",
    "    print(string)\n",
    "\n",
    "print(new_string)"
   ]
  },
  {
   "cell_type": "code",
   "execution_count": 13,
   "id": "4c303ffa",
   "metadata": {},
   "outputs": [
    {
     "name": "stdout",
     "output_type": "stream",
     "text": [
      "Enter a number: 10\n",
      "Enetr a number: 50\n",
      "True\n"
     ]
    }
   ],
   "source": [
    "#python program that accepts two inputs num1 and num2 print True if one of them is 10 or if their sum is 10 otherwise print False\n",
    "num1=int(input(\"Enter a number: \"))\n",
    "num2=int(input(\"Enetr a number: \"))\n",
    "\n",
    "if num1==10 or num2==10 or num1+num2==10:\n",
    "    print(True)\n",
    "else:\n",
    "    print(False)"
   ]
  },
  {
   "cell_type": "code",
   "execution_count": 7,
   "id": "5dc4374a",
   "metadata": {},
   "outputs": [
    {
     "name": "stdout",
     "output_type": "stream",
     "text": [
      "enter a number: 2\n",
      "enter a number: 5\n",
      "enter a number: 10\n",
      "False\n"
     ]
    }
   ],
   "source": [
    "#python program that accepts three inputs x, y and z print True if x*y>z otherwise False\n",
    "x = int(input(\"enter a number: \"))\n",
    "y = int(input(\"enter a number: \"))\n",
    "z = int(input(\"enter a number: \"))\n",
    "if ((x*y)>z):\n",
    "    print(\"True\")\n",
    "else:\n",
    "    print(\"False\")"
   ]
  },
  {
   "cell_type": "code",
   "execution_count": 8,
   "id": "aaf96e98",
   "metadata": {},
   "outputs": [
    {
     "name": "stdout",
     "output_type": "stream",
     "text": [
      "enter a string: ABC\n",
      "enter a string: abcd\n",
      "False\n"
     ]
    }
   ],
   "source": [
    "#a python program that accepts two strings inputs return True depending on whether the total number of characters in the first string is equal to the total number of characters in the second string\n",
    "string1 = input(\"enter a string: \")\n",
    "string2 = input(\"enter a string: \")\n",
    "\n",
    "if (len(string1) == len(string2)):\n",
    "    print(\"True\")\n",
    "else:\n",
    "    print(\"False\")\n"
   ]
  },
  {
   "cell_type": "code",
   "execution_count": 9,
   "id": "7a6f9bac",
   "metadata": {},
   "outputs": [
    {
     "name": "stdout",
     "output_type": "stream",
     "text": [
      "Enter a string: 123\n",
      "123123123\n"
     ]
    }
   ],
   "source": [
    "#python program that takes a string input, we'll say that the front is the first three characters of the string. If the string length is less than three characters, the front is whatever is there. Return a new string, which is three copies of the front\n",
    "x=input(\"Enter a string: \")\n",
    "if len(x)<3:\n",
    "    print(x)\n",
    "else:\n",
    "    print(x[0:3]*3)"
   ]
  },
  {
   "cell_type": "code",
   "execution_count": 10,
   "id": "fbad1b3c",
   "metadata": {},
   "outputs": [
    {
     "name": "stdout",
     "output_type": "stream",
     "text": [
      "Enter a string: chicks\n",
      "chicks is plural.\n"
     ]
    }
   ],
   "source": [
    "#python program that takes in a word and determines whether or not it is plural. A plural word is one that ends in \"s\"\n",
    "x=input(\"Enter a string: \")\n",
    "if x.endswith(\"s\") or x.endswith(\"S\"):\n",
    "    print(x+\" is plural.\")\n",
    "else:\n",
    "    print(x+\" is not plural.\")"
   ]
  },
  {
   "cell_type": "code",
   "execution_count": 1,
   "id": "505016e0",
   "metadata": {},
   "outputs": [
    {
     "name": "stdout",
     "output_type": "stream",
     "text": [
      "Give true if it is break time else false:true\n",
      "Enetr the age of the costumer: 45\n",
      "Serve the drinks\n"
     ]
    }
   ],
   "source": [
    "#A bartender is writing a simple program to determine whether he should serve drinks to someone. He only serves drinks to people 18 and older and when he's not on break(True means break and False means not a break time). Given the person's age, and whether break time is in session, create a python program which prints whether he should serve drinks or not\n",
    "x=input(\"Give true if it is break time else false:\")\n",
    "age=int(input(\"Enetr the age of the costumer: \"))\n",
    "if x==\"True\" or x==\"true\":\n",
    "    if age>=18:\n",
    "        print(\"Serve the drinks\")\n",
    "    else:\n",
    "        print(\"Do not serve the drinks\")"
   ]
  },
  {
   "cell_type": "code",
   "execution_count": 2,
   "id": "7ddefbb5",
   "metadata": {},
   "outputs": [
    {
     "name": "stdout",
     "output_type": "stream",
     "text": [
      "Enter the name: tarun\n",
      "Rleation is brother\n"
     ]
    }
   ],
   "source": [
    "#Manoj Kumar has family and friends. Help him remind them who is who. Given a string with a name, return the relation of that person to Manoj Kumar\n",
    "x=input(\"Enter the name: \")\n",
    "person=[\"shiva\",\"letha\",\"tarun\",\"kavitha\"]\n",
    "rel=[\"father\",\"mother\",\"brother\",\"sister\"]\n",
    "if x==person[0]:\n",
    "    print(\"Rleation is father\")\n",
    "elif x==person[1]:\n",
    "    print(\"Rleation is mother\")\n",
    "elif x==person[2]:\n",
    "    print(\"Rleation is brother\")\n",
    "elif x==person[3]:\n",
    "    print(\"Rleation is sister\")\n",
    "else:\n",
    "    print(\"Relation not found\")"
   ]
  },
  {
   "cell_type": "code",
   "execution_count": 2,
   "id": "9bfe0240",
   "metadata": {},
   "outputs": [
    {
     "name": "stdout",
     "output_type": "stream",
     "text": [
      "Enter a string: AbcdEfghIjklmnOpqrstUvwxyz\n",
      "Vowels:   AEIOU\n",
      "Consonants:   bcdfghjklmnpqrstvwxyz\n"
     ]
    }
   ],
   "source": [
    "#python program that takes a string, breaks it up and returns it with vowels first, consonants second. For any character that's not a vowel (like special characters or spaces), treat them like consonants\n",
    "x=input(\"Enter a string: \")\n",
    "vow=\" \"\n",
    "con=\" \"\n",
    "for y in range(0,len(x)):\n",
    "    if x[y].upper()==\"a\" or x[y].upper()==\"e\" or x[y].upper()==\"i\" or x[y].upper()==\"o\" or x[y].upper()==\"u\" or x[y]==\"A\" or x[y]==\"E\" or x[y]==\"I\" or x[y]==\"O\" or x[y]==\"U\":\n",
    "        vow+=x[y]\n",
    "    else:\n",
    "        con+=x[y]\n",
    "print(\"Vowels: \", vow)\n",
    "print(\"Consonants: \",con)"
   ]
  },
  {
   "cell_type": "code",
   "execution_count": 7,
   "id": "bc6545d9",
   "metadata": {},
   "outputs": [
    {
     "name": "stdout",
     "output_type": "stream",
     "text": [
      "enter any number: 5\n",
      "enter any symbol +, -, *, /, %, **, // : *\n",
      "enter any number: 5\n",
      "5*5=25\n"
     ]
    }
   ],
   "source": [
    "#Create a dynamic calculator which asks for numbers and operator and return the answers\n",
    "i1 = int(input(\"enter any number: \"))\n",
    "symbol=input(\"enter any symbol +, -, *, /, %, **, // : \")\n",
    "i2 = int(input(\"enter any number: \"))\n",
    "if symbol == \"+\":\n",
    "    print(\"{}+{}={}\".format(i1, i2, i1+i2))\n",
    "elif symbol ==\"-\":\n",
    "    print(\"{}-{}={}\".format(i1,i2,i1-i2))\n",
    "elif symbol == \"*\":\n",
    "    print(\"{}*{}={}\".format(i1, i2, i1*i2))\n",
    "elif symbol ==\"/\":\n",
    "    print(\"{}/{}={}\".format(i1, i2, i1/i2))\n",
    "elif symbol == \"%\":\n",
    "    print(\"{}%{}={}\".format(i1, i2, i1%i2))\n",
    "elif symbol == \"**\":\n",
    "    print(\"{}**{}={}\".format(i1, i2, i1**i2))\n",
    "elif symbol == \"//\":\n",
    "    print(\"{}//{}={}\".format(i1, i2, i1//i2))\n",
    "else:\n",
    "    print(\"enter correct symbol\")\n",
    "    "
   ]
  },
  {
   "cell_type": "code",
   "execution_count": null,
   "id": "5c79b838",
   "metadata": {},
   "outputs": [],
   "source": []
  },
  {
   "cell_type": "code",
   "execution_count": null,
   "id": "6928f980",
   "metadata": {},
   "outputs": [],
   "source": []
  }
 ],
 "metadata": {
  "kernelspec": {
   "display_name": "Python 3 (ipykernel)",
   "language": "python",
   "name": "python3"
  },
  "language_info": {
   "codemirror_mode": {
    "name": "ipython",
    "version": 3
   },
   "file_extension": ".py",
   "mimetype": "text/x-python",
   "name": "python",
   "nbconvert_exporter": "python",
   "pygments_lexer": "ipython3",
   "version": "3.10.9"
  }
 },
 "nbformat": 4,
 "nbformat_minor": 5
}
