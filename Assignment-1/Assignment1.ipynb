{
 "cells": [
  {
   "cell_type": "code",
   "execution_count": 1,
   "id": "4906016e",
   "metadata": {},
   "outputs": [
    {
     "data": {
      "text/plain": [
       "'this is my assignment'"
      ]
     },
     "execution_count": 1,
     "metadata": {},
     "output_type": "execute_result"
    }
   ],
   "source": [
    "#Q1 : Python program to convert a string to lower case\n",
    "\n",
    "a = \"THIS IS MY ASSIGNMENT\"\n",
    "a.lower()"
   ]
  },
  {
   "cell_type": "code",
   "execution_count": 6,
   "id": "819c7a9b",
   "metadata": {},
   "outputs": [
    {
     "data": {
      "text/plain": [
       "'AsSiGnMeNt'"
      ]
     },
     "execution_count": 6,
     "metadata": {},
     "output_type": "execute_result"
    }
   ],
   "source": [
    "#Q2 : Python program to convert only odd indexed characters to lower case\n",
    "\n",
    "b = \"ASSIGNMENT\"\n",
    "b[0]+b[1].lower()+b[2]+b[3].lower()+b[4]+b[5].lower()+b[6]+b[7].lower()+b[8]+b[9].lower()"
   ]
  },
  {
   "cell_type": "code",
   "execution_count": 7,
   "id": "2cf20913",
   "metadata": {},
   "outputs": [
    {
     "data": {
      "text/plain": [
       "'aSsIgNmEnt'"
      ]
     },
     "execution_count": 7,
     "metadata": {},
     "output_type": "execute_result"
    }
   ],
   "source": [
    "#Q3 : python program to convert only even indexed characters to lower case\n",
    "\n",
    "b = \"ASSIGNMENT\"\n",
    "b[0].lower()+b[1]+b[2].lower()+b[3]+b[4].lower()+b[5]+b[6].lower()+b[7]+b[8].lower()+b[9].lower()"
   ]
  },
  {
   "cell_type": "code",
   "execution_count": 9,
   "id": "2340eb54",
   "metadata": {},
   "outputs": [
    {
     "data": {
      "text/plain": [
       "'aSsIgNmEnT'"
      ]
     },
     "execution_count": 9,
     "metadata": {},
     "output_type": "execute_result"
    }
   ],
   "source": [
    "#Q4 : python program to convert only odd indexed characters to upper case\n",
    "\n",
    "b = \"assignment\"\n",
    "b[0]+b[1].upper()+b[2]+b[3].upper()+b[4]+b[5].upper()+b[6]+b[7].upper()+b[8]+b[9].upper()"
   ]
  },
  {
   "cell_type": "code",
   "execution_count": 10,
   "id": "90d89e2d",
   "metadata": {},
   "outputs": [
    {
     "data": {
      "text/plain": [
       "'AsSiGnMeNt'"
      ]
     },
     "execution_count": 10,
     "metadata": {},
     "output_type": "execute_result"
    }
   ],
   "source": [
    "#Q5 : python program to convert only even indexed characters to upper case\n",
    "\n",
    "b = \"assignment\"\n",
    "b[0].upper()+b[1]+b[2].upper()+b[3]+b[4].upper()+b[5]+b[6].upper()+b[7]+b[8].upper()+b[9]"
   ]
  },
  {
   "cell_type": "code",
   "execution_count": 13,
   "id": "ab653390",
   "metadata": {},
   "outputs": [
    {
     "name": "stdout",
     "output_type": "stream",
     "text": [
      "Enter your Name:Person\n",
      "Enter sex:F\n",
      "Enter your age:22\n",
      "Enter your phone no:9632587410\n",
      "Enter your Fathers name:Dad\n",
      "Enter your Mothers name:Mom\n",
      "My name is Person,\n",
      "My gender is F,\n",
      "My age is 22,\n",
      "My Phone number is 9632587410,\n",
      "My Father name is Dad,\n",
      "My Mother name is Mom\n"
     ]
    }
   ],
   "source": [
    "#Q6 : python program where you have different variable which contains your name ,sex,age, phone no ,fathers name and mothers name.And by using this variable create avariable named bio-data where you will use all this variable\n",
    "\n",
    "name=input(\"Enter your Name:\")\n",
    "sex=input(\"Enter sex:\")\n",
    "age=int(input(\"Enter your age:\"))\n",
    "phone_no=int(input(\"Enter your phone no:\"))\n",
    "father_name=input(\"Enter your Fathers name:\")\n",
    "mother_name=input(\"Enter your Mothers name:\")\n",
    "bio_data=\"My name is {},\\nMy gender is {},\\nMy age is {},\\nMy Phone number is {},\\nMy Father name is {},\\nMy Mother name is {}\".format(name,sex,age,phone_no,father_name,mother_name)\n",
    "print(bio_data)"
   ]
  },
  {
   "cell_type": "code",
   "execution_count": 16,
   "id": "b9383b85",
   "metadata": {},
   "outputs": [
    {
     "data": {
      "text/plain": [
       "15"
      ]
     },
     "execution_count": 16,
     "metadata": {},
     "output_type": "execute_result"
    }
   ],
   "source": [
    "#Q7 :  python program to count how many times “@” occurred\n",
    "\n",
    "c = \"@@@@@@@@123asc$@@@@@@@\"\n",
    "c.count(\"@\")"
   ]
  },
  {
   "cell_type": "code",
   "execution_count": 56,
   "id": "a0bc5d2c",
   "metadata": {},
   "outputs": [
    {
     "data": {
      "text/plain": [
       "'name1,name2,name3'"
      ]
     },
     "execution_count": 56,
     "metadata": {},
     "output_type": "execute_result"
    }
   ],
   "source": [
    "#Q8 : python program to get only names from the string \n",
    "d = \"name1.@gmail.com,name2.@gmail.com,name3.@gmail.com\"\n",
    "d.replace(\".@gmail.com\",\"\")"
   ]
  },
  {
   "cell_type": "code",
   "execution_count": 49,
   "id": "c3f01887",
   "metadata": {},
   "outputs": [
    {
     "data": {
      "text/plain": [
       "'gnm'"
      ]
     },
     "execution_count": 49,
     "metadata": {},
     "output_type": "execute_result"
    }
   ],
   "source": [
    "#Q9 : Given a string of odd length greater that 9, return a new string made of the middle three characters of a given String\n",
    "\n",
    "e=\"assignment1\"\n",
    "e[4:7]"
   ]
  },
  {
   "cell_type": "code",
   "execution_count": 48,
   "id": "f43d32db",
   "metadata": {},
   "outputs": [
    {
     "name": "stdout",
     "output_type": "stream",
     "text": [
      "msayn\n"
     ]
    }
   ],
   "source": [
    "#Q10 : python program to insert a 2 string in the middle of 1 string\n",
    "\n",
    "x=\"myn\"\n",
    "y=\"sa\"\n",
    "print(x[0]+y+x[1:3])"
   ]
  },
  {
   "cell_type": "code",
   "execution_count": 57,
   "id": "d6b6d63c",
   "metadata": {},
   "outputs": [
    {
     "data": {
      "text/plain": [
       "{97: 64, 101: 64, 105: 64, 111: 64, 117: 64}"
      ]
     },
     "execution_count": 57,
     "metadata": {},
     "output_type": "execute_result"
    }
   ],
   "source": [
    "#Q11 : program to remove vowels from the entire alphabets\n",
    "\n",
    "alp = \"abcdefghijklmnopqrstuvwxyz\"\n",
    "alp.maketrans(\"aeiou\",\"@@@@@\")\n"
   ]
  },
  {
   "cell_type": "code",
   "execution_count": 59,
   "id": "63f73359",
   "metadata": {},
   "outputs": [
    {
     "data": {
      "text/plain": [
       "'bcdfghjklmnpqrstvwxyz'"
      ]
     },
     "execution_count": 59,
     "metadata": {},
     "output_type": "execute_result"
    }
   ],
   "source": [
    "mapp_table = alp.maketrans(\"aeiou\",\"@@@@@\")\n",
    "alp.translate(mapp_table).replace(\"@\", \"\")"
   ]
  },
  {
   "cell_type": "code",
   "execution_count": null,
   "id": "40b0dbd1",
   "metadata": {},
   "outputs": [],
   "source": []
  }
 ],
 "metadata": {
  "kernelspec": {
   "display_name": "Python 3 (ipykernel)",
   "language": "python",
   "name": "python3"
  },
  "language_info": {
   "codemirror_mode": {
    "name": "ipython",
    "version": 3
   },
   "file_extension": ".py",
   "mimetype": "text/x-python",
   "name": "python",
   "nbconvert_exporter": "python",
   "pygments_lexer": "ipython3",
   "version": "3.10.9"
  }
 },
 "nbformat": 4,
 "nbformat_minor": 5
}
