{
 "cells": [
  {
   "cell_type": "code",
   "execution_count": 1,
   "id": "21d2d72f",
   "metadata": {},
   "outputs": [
    {
     "name": "stdout",
     "output_type": "stream",
     "text": [
      "1\n",
      "2\n",
      "3\n",
      "4\n",
      "5\n",
      "6\n"
     ]
    }
   ],
   "source": [
    "#Python program to loop through all the elements in a list\n",
    "x = [1, 2, 3, 4, 5, 6, 7]\n",
    "for i in range(0,6):\n",
    "    print(x[i])"
   ]
  },
  {
   "cell_type": "code",
   "execution_count": 17,
   "id": "6d03920d",
   "metadata": {},
   "outputs": [
    {
     "name": "stdout",
     "output_type": "stream",
     "text": [
      "How many elements do you want to insert? 6\n",
      "Enter element : 1\n",
      "Enter element : 2\n",
      "Enter element : 3\n",
      "Enter element : 4\n",
      "Enter element : 5\n",
      "Enter element : 6\n",
      "List after inserting elements: ['1', '2', '3', '4', '5', '6']\n"
     ]
    }
   ],
   "source": [
    "#a Python program where you will ask the users to insert elements in a list\n",
    "elements = []    \n",
    "n = int(input(\"How many elements do you want to insert? \"))\n",
    "    \n",
    "for i in range(n):\n",
    "    element = input(\"Enter element : \")\n",
    "    elements.append(element)  \n",
    "        \n",
    "print(\"List after inserting elements:\", elements)\n"
   ]
  },
  {
   "cell_type": "code",
   "execution_count": 19,
   "id": "df878eb9",
   "metadata": {},
   "outputs": [
    {
     "name": "stdout",
     "output_type": "stream",
     "text": [
      "[1, 3, 5, 7]\n"
     ]
    }
   ],
   "source": [
    "#a Python program to remove all the odd index value from a list and only even index elements should remain\n",
    "x = [1,2,3,4,5,6,7,\"a\"]\n",
    "odd_list = []\n",
    "\n",
    "for i in range(0,len(x)):\n",
    "    if i%2==0:\n",
    "        odd_list.append(x[i])\n",
    "print(odd_list)\n",
    "        "
   ]
  },
  {
   "cell_type": "code",
   "execution_count": 23,
   "id": "d63e0588",
   "metadata": {},
   "outputs": [
    {
     "name": "stdout",
     "output_type": "stream",
     "text": [
      "Enter the size of the list 6\n",
      "Enter a number: 1\n",
      "Enter a number: 2\n",
      "Enter a number: 3\n",
      "Enter a number: 4\n",
      "Enter a number: 5\n",
      "Enter a number: 6\n",
      "Sum:  21\n",
      "Product:  720\n"
     ]
    }
   ],
   "source": [
    "#Python program to sum and multiply all the items in a list\n",
    "l=[]\n",
    "a=int(input(\"Enter the size of the list \"))\n",
    "for z in range(0,a):\n",
    "    b=int(input(\"Enter a number: \"))\n",
    "    l.append(b)\n",
    "\n",
    "s=0\n",
    "p=1\n",
    "for x in l:\n",
    "    s+=x\n",
    "    p*=x\n",
    "print(\"Sum: \",s)\n",
    "print(\"Product: \",p)"
   ]
  },
  {
   "cell_type": "code",
   "execution_count": 3,
   "id": "cde39613",
   "metadata": {},
   "outputs": [
    {
     "name": "stdout",
     "output_type": "stream",
     "text": [
      "Enter the length of the list 5\n",
      "Enter a number: 4\n",
      "Enter a number: 58\n",
      "Enter a number: 62\n",
      "Enter a number: 78\n",
      "Enter a number: 26\n",
      "Max:  78 \n",
      "Min:  4\n"
     ]
    }
   ],
   "source": [
    "#Write a Python program to get the maximum and minimum numbers from a list\n",
    "l = []\n",
    "y=int(input(\"Enter the length of the list \"))\n",
    "for x in range(0,y):\n",
    "    z=int(input(\"Enter a number: \"))\n",
    "    l.append(z)\n",
    "max1=0;min1=l[0]\n",
    "for x in l:\n",
    "    a=x; b=x\n",
    "    if max1<a:\n",
    "        max1=a\n",
    "    if b<min1:\n",
    "        min1=b\n",
    "print(\"Max: \",max1,\"\\nMin: \",min1)"
   ]
  },
  {
   "cell_type": "code",
   "execution_count": 1,
   "id": "d6318086",
   "metadata": {},
   "outputs": [
    {
     "name": "stdout",
     "output_type": "stream",
     "text": [
      "Enter the length of list which is greater than or equal to six: 7\n",
      "Enter a value: violet\n",
      "Enter a value: indigo\n",
      "Enter a value: blue\n",
      "Enter a value: green\n",
      "Enter a value: yellow\n",
      "Enter a value: orange\n",
      "Enter a value: red\n",
      "['indigo', 'blue', 'green', 'red']\n"
     ]
    }
   ],
   "source": [
    "#Write a Python program to print a specified list after removing the 0th, 4th and 5th elements.\n",
    "_list=[]\n",
    "list1=[]\n",
    "y=int(input(\"Enter the length of list which is greater than or equal to six: \"))\n",
    "for x in range(0,y):\n",
    "    a=input(\"Enter a value: \")\n",
    "    _list.append(a)\n",
    "\n",
    "for z in range(0,y):\n",
    "    if z==0 or z==4 or z==5:\n",
    "        continue\n",
    "    else:\n",
    "        list1.append(_list[z])\n",
    "print(list1)\n"
   ]
  },
  {
   "cell_type": "code",
   "execution_count": 7,
   "id": "f17a8153",
   "metadata": {},
   "outputs": [
    {
     "name": "stdout",
     "output_type": "stream",
     "text": [
      "python\n"
     ]
    },
    {
     "data": {
      "text/plain": [
       "str"
      ]
     },
     "execution_count": 7,
     "metadata": {},
     "output_type": "execute_result"
    }
   ],
   "source": [
    "#Write a Python program to convert a list of characters into a string\n",
    "list_ = ['p','y','t','h','o','n']\n",
    "string = \"\".join(list_)\n",
    "print(string)\n",
    "type(string)"
   ]
  },
  {
   "cell_type": "code",
   "execution_count": 43,
   "id": "80de8b74",
   "metadata": {},
   "outputs": [
    {
     "name": "stdout",
     "output_type": "stream",
     "text": [
      "enter length of list: 3\n",
      "enter a element to enter into a list: 1\n",
      "enter a element to enter into a list: 2\n",
      "enter a element to enter into a list: 3\n",
      "given list:  [1, 2, 3]\n",
      "length of list:  3\n",
      "sum is:  6\n",
      "Average of the given list is:  2.0\n"
     ]
    }
   ],
   "source": [
    "#. Write a Python program to compute average of given lists.\n",
    "list_ = int(input(\"enter length of list: \"))\n",
    "l=[]\n",
    "for i in range(0,y):\n",
    "    a = int(input(\"enter a element to enter into a list: \"))\n",
    "    l.append(a)\n",
    "    sum_ = sum(l)\n",
    "    \n",
    "avg = sum_/len(l)\n",
    "print(\"given list: \",l)\n",
    "print(\"length of list: \",len(l))\n",
    "print(\"sum is: \",sum_)\n",
    "print(\"Average of the given list is: \",avg)\n"
   ]
  },
  {
   "cell_type": "code",
   "execution_count": 45,
   "id": "02bc40af",
   "metadata": {},
   "outputs": [
    {
     "name": "stdout",
     "output_type": "stream",
     "text": [
      "Enter the length of the list: 3\n",
      "Chose the datatype: int,float,complex,string: int\n",
      "Enter integer data: 1\n",
      "Chose the datatype: int,float,complex,string: str\n",
      "Enter string data: abc\n",
      "Chose the datatype: int,float,complex,string: int\n",
      "Enter integer data: 3\n",
      "list:  [1, 'abc', 3]\n",
      "Number of integers in the list:  2\n"
     ]
    }
   ],
   "source": [
    "#Write a Python program to count integer in a given mixed list.\n",
    "a=int(input(\"Enter the length of the list: \"))\n",
    "l=[]\n",
    "x=0\n",
    "for i in range(0,a):\n",
    "    data=input(\"Chose the datatype: int,float,complex,string: \")\n",
    "    if data==\"int\":\n",
    "        l.append(int(input(\"Enter integer data: \")))\n",
    "        x+=1\n",
    "    elif data==\"float\":\n",
    "        l.append(float(input(\"Enter float data: \")))\n",
    "    elif data==\"complex\":\n",
    "        l.append(complex(input(\"Enter complex data: \")))\n",
    "    else:\n",
    "        l.append(input(\"Enter string data: \"))\n",
    "print(\"list: \",l)\n",
    "print(\"Number of integers in the list: \",x)"
   ]
  },
  {
   "cell_type": "code",
   "execution_count": 54,
   "id": "d4f95e0e",
   "metadata": {},
   "outputs": [
    {
     "name": "stdout",
     "output_type": "stream",
     "text": [
      "enter length: 4\n",
      "enter elements: 1\n",
      "enter elements: 2\n",
      "enter elements: 3\n",
      "enter elements: 4\n",
      "['4', '3', '2', '1']\n"
     ]
    }
   ],
   "source": [
    "#Write a Python program to reverse the list \n",
    "x = []\n",
    "a = int(input(\"enter length: \"))\n",
    "\n",
    "for i in range(0,a):\n",
    "    x.append(input(\"enter elements: \"))   \n",
    "print(x[::-1])\n"
   ]
  },
  {
   "cell_type": "code",
   "execution_count": 55,
   "id": "3fc37dd5",
   "metadata": {},
   "outputs": [
    {
     "name": "stdout",
     "output_type": "stream",
     "text": [
      "enter a string: python3.1\n",
      "('p', 'y', 't', 'h', 'o', 'n', '3', '.', '1')\n"
     ]
    }
   ],
   "source": [
    "#Write a Python program convert a given string to a tuple.\n",
    "str_ = input(\"enter a string: \")\n",
    "print(tuple(str_))"
   ]
  },
  {
   "cell_type": "code",
   "execution_count": null,
   "id": "d565aa35",
   "metadata": {},
   "outputs": [],
   "source": []
  }
 ],
 "metadata": {
  "kernelspec": {
   "display_name": "Python 3 (ipykernel)",
   "language": "python",
   "name": "python3"
  },
  "language_info": {
   "codemirror_mode": {
    "name": "ipython",
    "version": 3
   },
   "file_extension": ".py",
   "mimetype": "text/x-python",
   "name": "python",
   "nbconvert_exporter": "python",
   "pygments_lexer": "ipython3",
   "version": "3.10.9"
  }
 },
 "nbformat": 4,
 "nbformat_minor": 5
}
