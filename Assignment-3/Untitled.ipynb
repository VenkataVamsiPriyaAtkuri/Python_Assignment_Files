{
 "cells": [
  {
   "cell_type": "code",
   "execution_count": 11,
   "id": "8affd6e7",
   "metadata": {},
   "outputs": [
    {
     "name": "stdout",
     "output_type": "stream",
     "text": [
      "a b c d e f g h i j k l m n o p q r s t u v w x y z "
     ]
    }
   ],
   "source": [
    "#python program to print lower case alphabets (a-z) with conditional statement\n",
    "x=97\n",
    "if x<=122:\n",
    "     while x<=122:\n",
    "        print(chr(x), end=\" \")\n",
    "        x+=1\n",
    "   "
   ]
  },
  {
   "cell_type": "code",
   "execution_count": 5,
   "id": "859fced3",
   "metadata": {},
   "outputs": [
    {
     "name": "stdout",
     "output_type": "stream",
     "text": [
      "a b c d e f g h i j k l m n o p q r s t u v w x y z \n",
      "A B C D E F G H I J K L M N O P Q R S T U V W X Y Z "
     ]
    }
   ],
   "source": [
    "#python program to print lower & upper case alphabets with looping concepts (while loop and for loop)\n",
    "\n",
    "a=ord(\"a\")\n",
    "\n",
    "while a<=ord(\"z\"):\n",
    "    print(chr(a), end=\" \")\n",
    "    a+=1\n",
    "print()\n",
    "\n",
    "b = ord(\"A\")\n",
    "\n",
    "while b<=ord(\"Z\"):\n",
    "    print(chr(b),end=\" \")\n",
    "    b+=1\n",
    "\n",
    "    \n",
    "    "
   ]
  },
  {
   "cell_type": "code",
   "execution_count": 6,
   "id": "f42a6155",
   "metadata": {},
   "outputs": [
    {
     "data": {
      "text/plain": [
       "64"
      ]
     },
     "execution_count": 6,
     "metadata": {},
     "output_type": "execute_result"
    }
   ],
   "source": [
    "ord(\"@\")"
   ]
  },
  {
   "cell_type": "code",
   "execution_count": null,
   "id": "dab51a23",
   "metadata": {},
   "outputs": [],
   "source": []
  }
 ],
 "metadata": {
  "kernelspec": {
   "display_name": "Python 3 (ipykernel)",
   "language": "python",
   "name": "python3"
  },
  "language_info": {
   "codemirror_mode": {
    "name": "ipython",
    "version": 3
   },
   "file_extension": ".py",
   "mimetype": "text/x-python",
   "name": "python",
   "nbconvert_exporter": "python",
   "pygments_lexer": "ipython3",
   "version": "3.10.9"
  }
 },
 "nbformat": 4,
 "nbformat_minor": 5
}
