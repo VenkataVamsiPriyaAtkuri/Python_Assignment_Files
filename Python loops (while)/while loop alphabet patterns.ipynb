{
 "cells": [
  {
   "cell_type": "code",
   "execution_count": 1,
   "id": "bea735c1",
   "metadata": {},
   "outputs": [
    {
     "name": "stdout",
     "output_type": "stream",
     "text": [
      "  *  *  *\n",
      "        *\n",
      "     *  *\n",
      "  *     *\n",
      "     *  *\n"
     ]
    }
   ],
   "source": [
    "x=1\n",
    "while x<=5:\n",
    "    if x==1:\n",
    "        print(\"  *  *  *\")\n",
    "    elif x==4:\n",
    "        print(\"  *     *\")\n",
    "    elif  x==3 or x==5:\n",
    "        print(\"     *  *\")\n",
    "    else:\n",
    "        print(\"        *\")\n",
    "   \n",
    "    x=x+1"
   ]
  },
  {
   "cell_type": "code",
   "execution_count": 2,
   "id": "cd5f931a",
   "metadata": {},
   "outputs": [
    {
     "name": "stdout",
     "output_type": "stream",
     "text": [
      "* \n",
      "* \n",
      "* * *\n",
      "*     *\n",
      "* * *\n"
     ]
    }
   ],
   "source": [
    "x=1\n",
    "while x<=5:\n",
    "    if x==3 or x==5:\n",
    "        print(\"* * *\")\n",
    "    elif x==4:\n",
    "        print(\"*     *\")\n",
    "    else:\n",
    "        print(\"* \")\n",
    "    x=x+1                 "
   ]
  },
  {
   "cell_type": "code",
   "execution_count": 3,
   "id": "5a3e6e7d",
   "metadata": {},
   "outputs": [
    {
     "name": "stdout",
     "output_type": "stream",
     "text": [
      "* * * \n",
      "*\n",
      "*\n",
      "* * * \n"
     ]
    }
   ],
   "source": [
    "x=1\n",
    "while x<=4:\n",
    "    if x==1 or x==4:\n",
    "        print(\"* * * \")\n",
    "    else:\n",
    "        print(\"*\")\n",
    "\n",
    "    x=x+1\n",
    "       "
   ]
  },
  {
   "cell_type": "code",
   "execution_count": 4,
   "id": "3a7e295e",
   "metadata": {},
   "outputs": [
    {
     "name": "stdout",
     "output_type": "stream",
     "text": [
      "    *\n",
      "    *\n",
      "* * *\n",
      "*   *\n",
      "* * *\n"
     ]
    }
   ],
   "source": [
    "x=1\n",
    "while x<=5:\n",
    "    if x==3 or x==5:\n",
    "        print(\"* * *\")\n",
    "    elif x==4:\n",
    "        print(\"*   *\")\n",
    "    else:\n",
    "        print(\"    *\")\n",
    "    x=x+1                 "
   ]
  },
  {
   "cell_type": "code",
   "execution_count": 5,
   "id": "e1aa7bbb",
   "metadata": {},
   "outputs": [
    {
     "name": "stdout",
     "output_type": "stream",
     "text": [
      "* * * \n",
      "* * \n",
      "*\n",
      "* * * \n"
     ]
    }
   ],
   "source": [
    "x=1\n",
    "while x<=4:\n",
    "    if x==1 or x==4:\n",
    "        print(\"* * * \")\n",
    "    elif x==2:\n",
    "        print(\"* * \")\n",
    "    else:\n",
    "        print(\"*\")\n",
    "\n",
    "    x=x+1\n",
    "       "
   ]
  },
  {
   "cell_type": "code",
   "execution_count": 6,
   "id": "a3bce132",
   "metadata": {},
   "outputs": [
    {
     "name": "stdout",
     "output_type": "stream",
     "text": [
      "     *\n",
      "   *  *\n",
      "   * \n",
      " * * *\n",
      "   * \n",
      "*  *\n",
      " *\n"
     ]
    }
   ],
   "source": [
    "x=1\n",
    "while x<=7:\n",
    "    if x==1:  \n",
    "        print(\"     *\")\n",
    "    elif x==2:\n",
    "        print(\"   *  *\")\n",
    "    elif x==3 or x==5:\n",
    "        print(\"   * \")\n",
    "    elif x==4:\n",
    "        print(\" * * *\")\n",
    "    \n",
    "    elif x==6:\n",
    "        print(\"*  *\")\n",
    "    else:\n",
    "        print(\" *\")\n",
    "\n",
    "    x=x+1\n",
    "       "
   ]
  },
  {
   "cell_type": "code",
   "execution_count": 7,
   "id": "62a3da76",
   "metadata": {},
   "outputs": [
    {
     "name": "stdout",
     "output_type": "stream",
     "text": [
      "* * *\n",
      "*   *\n",
      "* * *\n",
      "    *\n",
      "  * *\n"
     ]
    }
   ],
   "source": [
    "x=1\n",
    "while x<=5:\n",
    "    if x==1 or x==3:\n",
    "        print(\"* * *\")\n",
    "    elif x==2:\n",
    "        print(\"*   *\")\n",
    "    elif x==4:\n",
    "        print(\"    *\")\n",
    "    \n",
    "    else:\n",
    "        print(\"  * *\")\n",
    "\n",
    "    x=x+1\n",
    "       "
   ]
  },
  {
   "cell_type": "code",
   "execution_count": 8,
   "id": "6552aaa9",
   "metadata": {},
   "outputs": [
    {
     "name": "stdout",
     "output_type": "stream",
     "text": [
      "* \n",
      "* \n",
      "* * *\n",
      "*     *\n",
      "*     *\n"
     ]
    }
   ],
   "source": [
    "x=1\n",
    "while x<=5:\n",
    "    if x==3:\n",
    "        print(\"* * *\")\n",
    "    elif x==4 or x==5:\n",
    "        print(\"*     *\")\n",
    "    else:\n",
    "        print(\"* \")\n",
    "    x=x+1                 "
   ]
  },
  {
   "cell_type": "code",
   "execution_count": 9,
   "id": "5300eea6",
   "metadata": {},
   "outputs": [
    {
     "name": "stdout",
     "output_type": "stream",
     "text": [
      "    *   \n",
      "    *   \n",
      "    *   \n",
      "    *   \n",
      "    *   \n"
     ]
    }
   ],
   "source": [
    "x=1\n",
    "while x<=5:\n",
    "        print(\"    *   \")\n",
    "        x=x+1"
   ]
  },
  {
   "cell_type": "code",
   "execution_count": 10,
   "id": "e4a423a6",
   "metadata": {},
   "outputs": [
    {
     "name": "stdout",
     "output_type": "stream",
     "text": [
      "    *   \n",
      "    *   \n",
      "    *   \n",
      "*   *\n",
      "  *  \n"
     ]
    }
   ],
   "source": [
    "x=1\n",
    "while x<=5:\n",
    "    if x==3 or x==2 or x==1:\n",
    "        print(\"    *   \")\n",
    "    elif x==4:\n",
    "        print(\"*   *\")\n",
    "    else:\n",
    "        print(\"  *  \")\n",
    "    x=x+1"
   ]
  },
  {
   "cell_type": "code",
   "execution_count": 11,
   "id": "e49fe231",
   "metadata": {},
   "outputs": [
    {
     "name": "stdout",
     "output_type": "stream",
     "text": [
      "*   *\n",
      "* *\n",
      "* *\n",
      "*   *\n"
     ]
    }
   ],
   "source": [
    "x=1\n",
    "while x<=4:\n",
    "    if x==1 or x==4 :\n",
    "        print(\"*   *\")\n",
    "    elif x==2 or x==3:\n",
    "        print(\"* *\")\n",
    "    else:\n",
    "        print(\"**\")\n",
    "    x=x+1"
   ]
  },
  {
   "cell_type": "code",
   "execution_count": 12,
   "id": "1f871a08",
   "metadata": {},
   "outputs": [
    {
     "name": "stdout",
     "output_type": "stream",
     "text": [
      "*      \n",
      "*      \n",
      "*      \n",
      "*      \n",
      "* * \n"
     ]
    }
   ],
   "source": [
    "x=1\n",
    "while x<=5:\n",
    "    if x==3 or x==2 or x==1 or x==4:\n",
    "        print(\"*      \")\n",
    "    else:\n",
    "        print(\"* * \")\n",
    "    x=x+1"
   ]
  },
  {
   "cell_type": "code",
   "execution_count": 13,
   "id": "ba3641b1",
   "metadata": {},
   "outputs": [
    {
     "name": "stdout",
     "output_type": "stream",
     "text": [
      "  *  * \n",
      "*   *   *\n",
      "*   *   *\n"
     ]
    }
   ],
   "source": [
    "x=1\n",
    "while x<=3:\n",
    "    if x==1:\n",
    "        print(\"  *  * \")\n",
    "    else:\n",
    "        print(\"*   *   *\")\n",
    "    x = x+1"
   ]
  },
  {
   "cell_type": "code",
   "execution_count": 14,
   "id": "adbf97b4",
   "metadata": {},
   "outputs": [
    {
     "name": "stdout",
     "output_type": "stream",
     "text": [
      "  *   \n",
      "*   *   \n",
      "*   *   \n"
     ]
    }
   ],
   "source": [
    "x=1\n",
    "while x<=3:\n",
    "    if x==1:\n",
    "        print(\"  *   \")\n",
    "    else:\n",
    "        print(\"*   *   \")\n",
    "    x = x+1"
   ]
  },
  {
   "cell_type": "code",
   "execution_count": 15,
   "id": "f24a421d",
   "metadata": {},
   "outputs": [
    {
     "name": "stdout",
     "output_type": "stream",
     "text": [
      "  *\n",
      "*   *\n",
      "*   *\n",
      "  *\n"
     ]
    }
   ],
   "source": [
    "x=1\n",
    "while x<=4:\n",
    "    if x==1 or x==4:\n",
    "        print(\"  *\")\n",
    "    else:\n",
    "        print(\"*   *\")\n",
    "    x = x+1"
   ]
  },
  {
   "cell_type": "code",
   "execution_count": 16,
   "id": "065a3ffd",
   "metadata": {},
   "outputs": [
    {
     "name": "stdout",
     "output_type": "stream",
     "text": [
      "* * *\n",
      "*   *\n",
      "* * *\n",
      "*    \n",
      "*    \n"
     ]
    }
   ],
   "source": [
    "x=1\n",
    "while x<=5:\n",
    "    if x==5 or x==4:\n",
    "        print(\"*    \")\n",
    "    elif x==1 or x==3:\n",
    "        print(\"* * *\")\n",
    "    else:\n",
    "        print(\"*   *\")\n",
    "    x=x+1"
   ]
  },
  {
   "cell_type": "code",
   "execution_count": 17,
   "id": "1811df74",
   "metadata": {},
   "outputs": [
    {
     "name": "stdout",
     "output_type": "stream",
     "text": [
      "* * *\n",
      "*   *\n",
      "* * *\n",
      "    *  *\n",
      "    *\n"
     ]
    }
   ],
   "source": [
    "x=1\n",
    "while x<=5:\n",
    "    if x==1 or x==3:\n",
    "        print(\"* * *\")\n",
    "    elif x==2:\n",
    "        print(\"*   *\")\n",
    "    elif x==4:\n",
    "        print(\"    *  *\")\n",
    "    else:\n",
    "        print(\"    *\")\n",
    "    x=x+1"
   ]
  },
  {
   "cell_type": "code",
   "execution_count": 18,
   "id": "02815296",
   "metadata": {},
   "outputs": [
    {
     "name": "stdout",
     "output_type": "stream",
     "text": [
      "* *\n",
      "**\n",
      "*\n",
      "*\n"
     ]
    }
   ],
   "source": [
    "x=1\n",
    "while x<=4:\n",
    "    if x==1:\n",
    "        print(\"* *\")\n",
    "    elif x==2:\n",
    "        print(\"**\")\n",
    "    else:\n",
    "        print(\"*\")\n",
    "    \n",
    "    x=x+1"
   ]
  },
  {
   "cell_type": "code",
   "execution_count": 19,
   "id": "de999345",
   "metadata": {},
   "outputs": [
    {
     "name": "stdout",
     "output_type": "stream",
     "text": [
      "* * * \n",
      "*\n",
      "* * * \n",
      "    *\n",
      "* * * \n"
     ]
    }
   ],
   "source": [
    "x=1\n",
    "while x<=5:\n",
    "    if x==3 or x==1 or x==5:\n",
    "        print(\"* * * \")\n",
    "    elif x==4:\n",
    "        print(\"    *\")\n",
    "    else:\n",
    "        print(\"*\")\n",
    "    x=x+1"
   ]
  },
  {
   "cell_type": "code",
   "execution_count": 20,
   "id": "4a55b295",
   "metadata": {},
   "outputs": [
    {
     "name": "stdout",
     "output_type": "stream",
     "text": [
      "  *  \n",
      "* * *\n",
      "  *  \n",
      "  * *\n",
      "   *\n"
     ]
    }
   ],
   "source": [
    "x=1\n",
    "while x<=5:\n",
    "    if x==1 or x==3:\n",
    "        print(\"  *  \")\n",
    "    elif x==2:\n",
    "        print(\"* * *\")\n",
    "    elif x==4:\n",
    "        print(\"  * *\")\n",
    "    else:\n",
    "        print(\"   *\")\n",
    "    x=x+1"
   ]
  },
  {
   "cell_type": "code",
   "execution_count": 21,
   "id": "ec7686ad",
   "metadata": {},
   "outputs": [
    {
     "name": "stdout",
     "output_type": "stream",
     "text": [
      "*     *\n",
      "*     *\n",
      "*     *\n",
      "  * *  \n"
     ]
    }
   ],
   "source": [
    "x=1\n",
    "while x<=4:\n",
    "    if x==1 or x==2 or x==3:\n",
    "        print(\"*     *\")\n",
    "    elif x==4:\n",
    "        print(\"  * *  \")\n",
    "    else:\n",
    "        print(\"   *   \")\n",
    "   \n",
    "    x=x+1"
   ]
  },
  {
   "cell_type": "code",
   "execution_count": 22,
   "id": "e0dd097d",
   "metadata": {},
   "outputs": [
    {
     "name": "stdout",
     "output_type": "stream",
     "text": [
      "*     *\n",
      "*     *\n",
      "*     *\n",
      "  * *  \n",
      "   *   \n"
     ]
    }
   ],
   "source": [
    "x=1\n",
    "while x<=5:\n",
    "    if x==1 or x==2 or x==3:\n",
    "        print(\"*     *\")\n",
    "    elif x==4:\n",
    "        print(\"  * *  \")\n",
    "    else:\n",
    "        print(\"   *   \")\n",
    "   \n",
    "    x=x+1"
   ]
  },
  {
   "cell_type": "code",
   "execution_count": 23,
   "id": "9aa88f47",
   "metadata": {},
   "outputs": [
    {
     "name": "stdout",
     "output_type": "stream",
     "text": [
      "*       *\n",
      "*   *   *\n",
      "* *   * *\n",
      "*       *\n"
     ]
    }
   ],
   "source": [
    "x=1\n",
    "while x<=4:\n",
    "    if x==1 or x==4:\n",
    "        print(\"*       *\")\n",
    "    elif x==2:\n",
    "        print(\"*   *   *\")\n",
    "    \n",
    "    else:\n",
    "        print(\"* *   * *\")\n",
    "   \n",
    "    x=x+1"
   ]
  },
  {
   "cell_type": "code",
   "execution_count": 24,
   "id": "9408ba08",
   "metadata": {},
   "outputs": [
    {
     "name": "stdout",
     "output_type": "stream",
     "text": [
      "*   *\n",
      "  *   \n",
      "*   *\n"
     ]
    }
   ],
   "source": [
    "x=1\n",
    "while x<=3:\n",
    "    if x==1 or x==3:\n",
    "        print(\"*   *\")\n",
    "    else:\n",
    "        print(\"  *   \")\n",
    "\n",
    "   \n",
    "    x=x+1"
   ]
  },
  {
   "cell_type": "code",
   "execution_count": 25,
   "id": "41ddb686",
   "metadata": {},
   "outputs": [
    {
     "name": "stdout",
     "output_type": "stream",
     "text": [
      "*   *\n",
      "*   *\n",
      "  * *\n",
      "    *\n",
      "    *\n"
     ]
    }
   ],
   "source": [
    "x=1\n",
    "while x<=5:\n",
    "    if x==2 or x==1:\n",
    "        print(\"*   *\")\n",
    "    elif x==3:\n",
    "        print(\"  * *\")\n",
    "    \n",
    "    else:\n",
    "        print(\"    *\")\n",
    "\n",
    "    x=x+1\n",
    "       "
   ]
  },
  {
   "cell_type": "code",
   "execution_count": 26,
   "id": "be8dd960",
   "metadata": {},
   "outputs": [
    {
     "name": "stdout",
     "output_type": "stream",
     "text": [
      "  *  *  *   \n",
      "      *    \n",
      "    *      \n",
      "  *  *  *   \n"
     ]
    }
   ],
   "source": [
    "x=1\n",
    "while x<=4:\n",
    "    if x==1 or x==4:\n",
    "        print(\"  *  *  *   \")\n",
    "    elif x==2:\n",
    "        print(\"      *    \")\n",
    "    elif x==3:\n",
    "        print(\"    *      \")\n",
    "   \n",
    "    x=x+1"
   ]
  },
  {
   "cell_type": "code",
   "execution_count": null,
   "id": "ecfbbcc8",
   "metadata": {},
   "outputs": [],
   "source": []
  }
 ],
 "metadata": {
  "kernelspec": {
   "display_name": "Python 3 (ipykernel)",
   "language": "python",
   "name": "python3"
  },
  "language_info": {
   "codemirror_mode": {
    "name": "ipython",
    "version": 3
   },
   "file_extension": ".py",
   "mimetype": "text/x-python",
   "name": "python",
   "nbconvert_exporter": "python",
   "pygments_lexer": "ipython3",
   "version": "3.10.9"
  }
 },
 "nbformat": 4,
 "nbformat_minor": 5
}
