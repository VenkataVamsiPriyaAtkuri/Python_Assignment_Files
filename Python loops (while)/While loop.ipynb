{
 "cells": [
  {
   "cell_type": "code",
   "execution_count": 1,
   "id": "42239064",
   "metadata": {},
   "outputs": [
    {
     "name": "stdout",
     "output_type": "stream",
     "text": [
      " ***** \n",
      "*     *\n",
      "*  *  *\n",
      "*     *\n",
      "*     *\n"
     ]
    }
   ],
   "source": [
    "x=1\n",
    "while x<=5:\n",
    "    if x==1:\n",
    "        print(\" ***** \")\n",
    "    elif x==2 or x==4 or x==5:\n",
    "        print(\"*     *\")\n",
    "    else:\n",
    "        print(\"*  *  *\")\n",
    "    x=x+1"
   ]
  },
  {
   "cell_type": "code",
   "execution_count": 2,
   "id": "9b98f40b",
   "metadata": {},
   "outputs": [
    {
     "name": "stdout",
     "output_type": "stream",
     "text": [
      "* * *\n",
      "*    *\n",
      "* * *\n",
      "*    *\n",
      "* * *\n"
     ]
    }
   ],
   "source": [
    "x=1\n",
    "while x<=5:\n",
    "    if x==1 or x==5 or x==3:\n",
    "        print(\"* * *\")\n",
    "    else:\n",
    "        print(\"*    *\")\n",
    "    x=x+1"
   ]
  },
  {
   "cell_type": "code",
   "execution_count": 3,
   "id": "60d5a647",
   "metadata": {},
   "outputs": [
    {
     "name": "stdout",
     "output_type": "stream",
     "text": [
      "* * * *\n",
      "*     \n",
      "*     \n",
      "*     \n",
      "* * * *\n"
     ]
    }
   ],
   "source": [
    "x=1\n",
    "while x<=5:\n",
    "    if x==1 or x==5:\n",
    "        print(\"* * * *\")\n",
    "    else:\n",
    "        print(\"*     \")\n",
    "\n",
    "    x=x+1\n",
    "       "
   ]
  },
  {
   "cell_type": "code",
   "execution_count": 4,
   "id": "ebf6b7a9",
   "metadata": {},
   "outputs": [
    {
     "name": "stdout",
     "output_type": "stream",
     "text": [
      "* * *\n",
      "*     *\n",
      "*     *\n",
      "*     *\n",
      "* * *\n"
     ]
    }
   ],
   "source": [
    "x=1\n",
    "while x<=5:\n",
    "    if x==1 or x==5:\n",
    "        print(\"* * *\")\n",
    "    elif x==4 or x==6:\n",
    "        print(\"*     *\")\n",
    "    else:\n",
    "        print(\"*     *\")\n",
    "    x=x+1"
   ]
  },
  {
   "cell_type": "code",
   "execution_count": 5,
   "id": "71223661",
   "metadata": {},
   "outputs": [
    {
     "name": "stdout",
     "output_type": "stream",
     "text": [
      "* * *\n",
      "*    \n",
      "* * *\n",
      "*    \n",
      "* * *\n"
     ]
    }
   ],
   "source": [
    "x=1\n",
    "while x<=5:\n",
    "    if x==1 or x==3 or x==5:\n",
    "        print(\"* * *\")\n",
    "    else:\n",
    "        print(\"*    \")\n",
    "    \n",
    "    x=x+1"
   ]
  },
  {
   "cell_type": "code",
   "execution_count": 6,
   "id": "8aab3666",
   "metadata": {},
   "outputs": [
    {
     "name": "stdout",
     "output_type": "stream",
     "text": [
      "* * *\n",
      "*    \n",
      "* * *\n",
      "*    \n",
      "*    \n"
     ]
    }
   ],
   "source": [
    "x=1\n",
    "while x<=5:\n",
    "    if x==1 or x==3 :\n",
    "        print(\"* * *\")\n",
    "    else:\n",
    "        print(\"*    \")\n",
    "    \n",
    "    x=x+1"
   ]
  },
  {
   "cell_type": "code",
   "execution_count": 7,
   "id": "b2e5d889",
   "metadata": {},
   "outputs": [
    {
     "name": "stdout",
     "output_type": "stream",
     "text": [
      "* * * *\n",
      "*      \n",
      "*      \n",
      "*   * *\n",
      "*     *\n",
      "* * * *\n"
     ]
    }
   ],
   "source": [
    "x=1\n",
    "while x<=6:\n",
    "    if x==1 or x==6 :\n",
    "        print(\"* * * *\")\n",
    "    elif x==2 or x==3:\n",
    "        print(\"*      \")\n",
    "    elif x==5 :\n",
    "        print(\"*     *\")\n",
    "    else:\n",
    "        print(\"*   * *\")\n",
    "    x=x+1"
   ]
  },
  {
   "cell_type": "code",
   "execution_count": 8,
   "id": "a7b8d480",
   "metadata": {},
   "outputs": [
    {
     "name": "stdout",
     "output_type": "stream",
     "text": [
      "*     *\n",
      "*     *\n",
      "* *** *\n",
      "*     *\n",
      "*     *\n"
     ]
    }
   ],
   "source": [
    "x=1\n",
    "while x<=5:\n",
    "    if x==1 or x==2 or x==5 or x==4 :\n",
    "        print(\"*     *\")\n",
    "    else:\n",
    "        print(\"* *** *\")\n",
    "    \n",
    "    x=x+1"
   ]
  },
  {
   "cell_type": "code",
   "execution_count": 9,
   "id": "49b16b4c",
   "metadata": {},
   "outputs": [
    {
     "name": "stdout",
     "output_type": "stream",
     "text": [
      "*  *  *\n",
      "   *  \n",
      "   *  \n",
      "*  *  *\n"
     ]
    }
   ],
   "source": [
    "x=1\n",
    "while x<=4:\n",
    "    if x==1 or x==4 :\n",
    "        print(\"*  *  *\")\n",
    "    else:\n",
    "        print(\"   *  \")\n",
    "    \n",
    "    x=x+1"
   ]
  },
  {
   "cell_type": "code",
   "execution_count": 10,
   "id": "7fae02c4",
   "metadata": {},
   "outputs": [
    {
     "name": "stdout",
     "output_type": "stream",
     "text": [
      "* * * * *\n",
      "    *\n",
      "    *\n",
      "    *\n",
      "* * *\n"
     ]
    }
   ],
   "source": [
    "x=1\n",
    "while x<=5:\n",
    "    if x==1:\n",
    "        print(\"* * * * *\")\n",
    "    elif x==2 or x==3 or x==4:\n",
    "        print(\"    *\")\n",
    "    else:\n",
    "        print(\"* * *\")\n",
    "    x=x+1"
   ]
  },
  {
   "cell_type": "code",
   "execution_count": 11,
   "id": "b46415e9",
   "metadata": {},
   "outputs": [
    {
     "name": "stdout",
     "output_type": "stream",
     "text": [
      "*    *\n",
      "*  *\n",
      "**\n",
      "*  *\n",
      "*    *\n"
     ]
    }
   ],
   "source": [
    "x=1\n",
    "while x<=5:\n",
    "    if x==1 or x==5 :\n",
    "        print(\"*    *\")\n",
    "    elif x==2 or x==4:\n",
    "        print(\"*  *\")\n",
    "    else:\n",
    "        print(\"**\")\n",
    "    x=x+1"
   ]
  },
  {
   "cell_type": "code",
   "execution_count": 12,
   "id": "31fc66f3",
   "metadata": {},
   "outputs": [
    {
     "name": "stdout",
     "output_type": "stream",
     "text": [
      "*      \n",
      "*      \n",
      "*      \n",
      "*      \n",
      "* * * * \n"
     ]
    }
   ],
   "source": [
    "x=1\n",
    "while x<=5:\n",
    "    if x==3 or x==2 or x==1 or x==4:\n",
    "        print(\"*      \")\n",
    "    else:\n",
    "        print(\"* * * * \")\n",
    "    x=x+1"
   ]
  },
  {
   "cell_type": "code",
   "execution_count": 13,
   "id": "e41ab3f6",
   "metadata": {},
   "outputs": [
    {
     "name": "stdout",
     "output_type": "stream",
     "text": [
      "*       *\n",
      "* *   * *\n",
      "*   *   *\n",
      "*       *\n",
      "*       *\n"
     ]
    }
   ],
   "source": [
    "x=1\n",
    "while x<=5:\n",
    "    if x==1 or x==4 or x==5 :\n",
    "        print(\"*       *\")\n",
    "    elif x==2:\n",
    "        print(\"* *   * *\")\n",
    "    else: \n",
    "        print(\"*   *   *\")\n",
    "    x=x+1"
   ]
  },
  {
   "cell_type": "code",
   "execution_count": 14,
   "id": "279405fc",
   "metadata": {},
   "outputs": [
    {
     "name": "stdout",
     "output_type": "stream",
     "text": [
      "*       *\n",
      "* *     *\n",
      "*   *   *\n",
      "*     * *\n",
      "*       *\n"
     ]
    }
   ],
   "source": [
    "x=1\n",
    "while x<=5:\n",
    "    if x==1 or x==5:\n",
    "        print(\"*       *\")\n",
    "    elif x==2:\n",
    "        print(\"* *     *\")\n",
    "    elif x==3:\n",
    "        print(\"*   *   *\")\n",
    "    else:\n",
    "        print(\"*     * *\")\n",
    "    x=x+1"
   ]
  },
  {
   "cell_type": "code",
   "execution_count": 15,
   "id": "742e1c0b",
   "metadata": {},
   "outputs": [
    {
     "name": "stdout",
     "output_type": "stream",
     "text": [
      "  *  *  *  \n",
      "*         *\n",
      "*         *\n",
      "*         *\n",
      "*         *\n",
      "  *  *  *  \n"
     ]
    }
   ],
   "source": [
    "x=1\n",
    "while x<=6:\n",
    "    if x==1 or x==6:\n",
    "        print(\"  *  *  *  \")\n",
    "    else:\n",
    "        print(\"*         *\")\n",
    "   \n",
    "    x=x+1"
   ]
  },
  {
   "cell_type": "code",
   "execution_count": 16,
   "id": "6f9fdfcd",
   "metadata": {},
   "outputs": [
    {
     "name": "stdout",
     "output_type": "stream",
     "text": [
      "* * * *\n",
      "*     *\n",
      "* * * *\n",
      "*    \n",
      "*    \n"
     ]
    }
   ],
   "source": [
    "x=1\n",
    "while x<=5:\n",
    "    if x==5 or x==4:\n",
    "        print(\"*    \")\n",
    "    elif x==1 or x==3:\n",
    "        print(\"* * * *\")\n",
    "    else:\n",
    "        print(\"*     *\")\n",
    "    x=x+1"
   ]
  },
  {
   "cell_type": "code",
   "execution_count": 17,
   "id": "68b33526",
   "metadata": {},
   "outputs": [
    {
     "name": "stdout",
     "output_type": "stream",
     "text": [
      "  * * \n",
      "*     *\n",
      "*  *  *\n",
      "  * * \n",
      "      *\n"
     ]
    }
   ],
   "source": [
    "x=1\n",
    "while x<=5:\n",
    "    if x==1 or x==4:\n",
    "        print(\"  * * \")\n",
    "    elif x==2:\n",
    "        print(\"*     *\")\n",
    "    elif x==3:\n",
    "        print(\"*  *  *\")\n",
    "    else:\n",
    "        print(\"      *\")\n",
    "    x=x+1"
   ]
  },
  {
   "cell_type": "code",
   "execution_count": 18,
   "id": "2c977fe2",
   "metadata": {},
   "outputs": [
    {
     "name": "stdout",
     "output_type": "stream",
     "text": [
      "* * *\n",
      "*    *\n",
      "* * *\n",
      "*  * \n",
      "*    *\n"
     ]
    }
   ],
   "source": [
    "x=1\n",
    "while x<=5:\n",
    "    if x==1 or x==3:\n",
    "        print(\"* * *\")\n",
    "    elif x==2 :\n",
    "        print(\"*    *\")\n",
    "    elif x==4:\n",
    "        print(\"*  * \")\n",
    "    else:\n",
    "        print(\"*    *\")\n",
    "        \n",
    "    x=x+1"
   ]
  },
  {
   "cell_type": "code",
   "execution_count": 19,
   "id": "eaf1b01c",
   "metadata": {},
   "outputs": [
    {
     "name": "stdout",
     "output_type": "stream",
     "text": [
      "* * * *\n",
      "*\n",
      "* * * *\n",
      "      *\n",
      "* * * *\n"
     ]
    }
   ],
   "source": [
    "x=1\n",
    "while x<=5:\n",
    "    if x==3 or x==1 or x==5:\n",
    "        print(\"* * * *\")\n",
    "    elif x==4:\n",
    "        print(\"      *\")\n",
    "    else:\n",
    "        print(\"*\")\n",
    "    x=x+1"
   ]
  },
  {
   "cell_type": "code",
   "execution_count": 20,
   "id": "97ec37bc",
   "metadata": {},
   "outputs": [
    {
     "name": "stdout",
     "output_type": "stream",
     "text": [
      "* * * * * \n",
      "    *   \n",
      "    *   \n",
      "    *   \n",
      "    *   \n"
     ]
    }
   ],
   "source": [
    "x=1\n",
    "while x<=5:\n",
    "    if x==3 or x==2 or x==5 or x==4:\n",
    "        print(\"    *   \")\n",
    "    else:\n",
    "        print(\"* * * * * \")\n",
    "    x=x+1"
   ]
  },
  {
   "cell_type": "code",
   "execution_count": 21,
   "id": "3cba25fb",
   "metadata": {},
   "outputs": [
    {
     "name": "stdout",
     "output_type": "stream",
     "text": [
      "*         *\n",
      "*         *\n",
      "*         *\n",
      "*         *\n",
      "*         *\n",
      "  *  *  *  \n"
     ]
    }
   ],
   "source": [
    "x=1\n",
    "while x<=6:\n",
    "    if x==6:\n",
    "        print(\"  *  *  *  \")\n",
    "    else:\n",
    "        print(\"*         *\")\n",
    "   \n",
    "    x=x+1"
   ]
  },
  {
   "cell_type": "code",
   "execution_count": 22,
   "id": "08566ec5",
   "metadata": {},
   "outputs": [
    {
     "name": "stdout",
     "output_type": "stream",
     "text": [
      "*     *\n",
      "*     *\n",
      "*     *\n",
      "  * *  \n",
      "   *   \n"
     ]
    }
   ],
   "source": [
    "x=1\n",
    "while x<=5:\n",
    "    if x==1 or x==2 or x==3:\n",
    "        print(\"*     *\")\n",
    "    elif x==4:\n",
    "        print(\"  * *  \")\n",
    "    else:\n",
    "        print(\"   *   \")\n",
    "   \n",
    "    x=x+1"
   ]
  },
  {
   "cell_type": "code",
   "execution_count": 23,
   "id": "e9a800c3",
   "metadata": {},
   "outputs": [
    {
     "name": "stdout",
     "output_type": "stream",
     "text": [
      "*         *\n",
      "*         *\n",
      "*    *    *\n",
      "*  *   *  *\n",
      "*         *\n"
     ]
    }
   ],
   "source": [
    "x=1\n",
    "while x<=5:\n",
    "    if x==1 or x==2 or x==5:\n",
    "        print(\"*         *\")\n",
    "    elif x==3:\n",
    "        print(\"*    *    *\")\n",
    "    \n",
    "    else:\n",
    "        print(\"*  *   *  *\")\n",
    "   \n",
    "    x=x+1"
   ]
  },
  {
   "cell_type": "code",
   "execution_count": 24,
   "id": "47427344",
   "metadata": {},
   "outputs": [
    {
     "name": "stdout",
     "output_type": "stream",
     "text": [
      "*       *\n",
      "  *   *  \n",
      "    *    \n",
      "  *   *  \n",
      "*       *\n"
     ]
    }
   ],
   "source": [
    "x=1\n",
    "while x<=5:\n",
    "    if x==1 or x==5:\n",
    "        print(\"*       *\")\n",
    "    elif x==2 or x==4:\n",
    "        print(\"  *   *  \")\n",
    "    else:\n",
    "        print(\"    *    \")\n",
    "   \n",
    "    x=x+1"
   ]
  },
  {
   "cell_type": "code",
   "execution_count": 25,
   "id": "14c7941d",
   "metadata": {},
   "outputs": [
    {
     "name": "stdout",
     "output_type": "stream",
     "text": [
      "*        *\n",
      "  *   *   \n",
      "    *    \n",
      "    *    \n",
      "    *    \n"
     ]
    }
   ],
   "source": [
    "x=1\n",
    "while x<=5:\n",
    "    if x==3 or x==4 or x==5:\n",
    "        print(\"    *    \")\n",
    "    elif x==2:\n",
    "        print(\"  *   *   \")\n",
    "    else:\n",
    "        print(\"*        *\")\n",
    "   \n",
    "    x=x+1"
   ]
  },
  {
   "cell_type": "code",
   "execution_count": 26,
   "id": "956b3ceb",
   "metadata": {},
   "outputs": [
    {
     "name": "stdout",
     "output_type": "stream",
     "text": [
      "  *  *  *  * \n",
      "        *    \n",
      "      *      \n",
      "    *      \n",
      "  *  *  *  * \n"
     ]
    }
   ],
   "source": [
    "x=1\n",
    "while x<=5:\n",
    "    if x==1 or x==5:\n",
    "        print(\"  *  *  *  * \")\n",
    "    elif x==2:\n",
    "        print(\"        *    \")\n",
    "    elif x==3:\n",
    "        print(\"      *      \")\n",
    "    else:\n",
    "        print(\"    *      \")\n",
    "   \n",
    "    x=x+1"
   ]
  },
  {
   "cell_type": "code",
   "execution_count": null,
   "id": "166ed782",
   "metadata": {},
   "outputs": [],
   "source": [
    "                                                                            "
   ]
  }
 ],
 "metadata": {
  "kernelspec": {
   "display_name": "Python 3 (ipykernel)",
   "language": "python",
   "name": "python3"
  },
  "language_info": {
   "codemirror_mode": {
    "name": "ipython",
    "version": 3
   },
   "file_extension": ".py",
   "mimetype": "text/x-python",
   "name": "python",
   "nbconvert_exporter": "python",
   "pygments_lexer": "ipython3",
   "version": "3.10.9"
  }
 },
 "nbformat": 4,
 "nbformat_minor": 5
}
